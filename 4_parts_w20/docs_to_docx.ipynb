{
 "cells": [
  {
   "cell_type": "markdown",
   "metadata": {},
   "source": [
    "# Transforming all doc files in the 3GPP download to the docx format\n",
    "\n",
    "The files can be in the .zip file or anywhere else"
   ]
  },
  {
   "cell_type": "code",
   "execution_count": 4,
   "metadata": {},
   "outputs": [],
   "source": [
    "# first, we need to get the list of all .doc and .zip files in the 3GPP folder and all of its subfolders\n",
    "import os\n",
    "\n",
    "# this function will return a list of all .doc and .zip files in the 3GPP folder and all of its subfolders\n",
    "def get_files(strFolder):\n",
    "    files2 = []\n",
    "    for root, dirs, files in os.walk(strFolder):\n",
    "        for file in files:\n",
    "            if file.endswith(\".doc\"):\n",
    "                files2.append([root, file])\n",
    "    return files2"
   ]
  },
  {
   "cell_type": "code",
   "execution_count": 2,
   "metadata": {},
   "outputs": [],
   "source": [
    "# for the conversion, we use the uno framework from the libreoffice package\n",
    "# it requires additional installation of the unoconv package\n",
    "# to install it, run the following command in the terminal:\n",
    "# sudo apt-get install unoconv\n",
    "\n",
    "import subprocess\n",
    "\n",
    "def convert_doc_to_docx(doc_file):\n",
    "    # Use unoconv to convert .doc to .docx\n",
    "    subprocess.run([\"unoconv\", \"-f\", \"docx\", doc_file], stdout=subprocess.DEVNULL, stderr=subprocess.DEVNULL)"
   ]
  },
  {
   "cell_type": "code",
   "execution_count": 6,
   "metadata": {},
   "outputs": [
    {
     "name": "stdout",
     "output_type": "stream",
     "text": [
      "450\n"
     ]
    }
   ],
   "source": [
    "# first, let's collect all the .zip and .doc and .rtf files\n",
    "str3GPPFolder = '/mnt/d/Specs'\n",
    "\n",
    "files = get_files(str3GPPFolder)\n",
    "\n",
    "print(len(files))"
   ]
  },
  {
   "cell_type": "code",
   "execution_count": 5,
   "metadata": {},
   "outputs": [],
   "source": [
    "# save that list to a file\n",
    "with open('./3GPP_files.txt', 'w') as f:\n",
    "    for item in files:\n",
    "        f.write(\"%s\\n\" % item)"
   ]
  },
  {
   "cell_type": "code",
   "execution_count": 9,
   "metadata": {},
   "outputs": [
    {
     "name": "stdout",
     "output_type": "stream",
     "text": [
      "100 of 450 files processed\n",
      "200 of 450 files processed\n"
     ]
    }
   ],
   "source": [
    "# then, let's convert them\n",
    "\n",
    "total = len(files)\n",
    "iCounter = 0\n",
    "\n",
    "# if the file is a .doc file, convert it to .docx\n",
    "for file in files:\n",
    "    if file[1].endswith(\".doc\") or file[1].endswith(\".rtf\"):\n",
    "        # check if the same file with .docx exists\n",
    "        if not os.path.exists(os.path.join(file[0], file[1] + 'x')):\n",
    "             \n",
    "            convert_doc_to_docx(os.path.join(file[0], file[1]))\n",
    "        # print(file[0], file[1])\n",
    "        iCounter += 1\n",
    "\n",
    "    # print status every 100 files\n",
    "    if iCounter % 100 == 0:\n",
    "        print(f'{iCounter} of {total} files processed')\n"
   ]
  },
  {
   "cell_type": "code",
   "execution_count": 6,
   "metadata": {},
   "outputs": [],
   "source": [
    "# now, if a file is a .zip file, then we need to extract it to a folder with the same name as the .zip file\n",
    "# and then convert all .doc files in the folder to .docx files\n",
    "# we can use the zipfile module to extract the .zip file\n",
    "# and then use the os module to convert the .doc files to .docx files\n",
    "import zipfile\n",
    "\n",
    "def extract_zip(zip_file):\n",
    "    # extract the .zip file to a folder with the same name as the .zip file\n",
    "    with zipfile.ZipFile(zip_file, 'r') as zip_ref:\n",
    "        zip_ref.extractall(os.path.splitext(zip_file)[0])\n",
    "\n",
    "    # get all .doc files in the folder\n",
    "    files = get_files(os.path.splitext(zip_file)[0])\n",
    "\n",
    "    # convert all .doc files to .docx files\n",
    "    for file in files:\n",
    "        if file[1].endswith(\".doc\") or file[1].endswith(\".rtf\"):\n",
    "            convert_doc_to_docx(os.path.join(file[0], file[1]))\n",
    "            # print(file[0], file[1])"
   ]
  }
 ],
 "metadata": {
  "kernelspec": {
   "display_name": "standards",
   "language": "python",
   "name": "python3"
  },
  "language_info": {
   "codemirror_mode": {
    "name": "ipython",
    "version": 3
   },
   "file_extension": ".py",
   "mimetype": "text/x-python",
   "name": "python",
   "nbconvert_exporter": "python",
   "pygments_lexer": "ipython3",
   "version": "3.8.10"
  }
 },
 "nbformat": 4,
 "nbformat_minor": 2
}
