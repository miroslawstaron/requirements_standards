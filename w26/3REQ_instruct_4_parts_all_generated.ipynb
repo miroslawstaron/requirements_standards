{
 "cells": [
  {
   "cell_type": "markdown",
   "metadata": {},
   "source": [
    "# 3REQ system\n",
    "\n",
    "Requirement analysis system.\n",
    "\n",
    "The flow is presented in the following figure: \n",
    "\n",
    "<img src=\"flow.png\" alt=\"drawing\" width=\"700\"/>\n",
    "\n",
    "Summary:\n",
    "1. Extract sections that contain words like \"latency\"\n",
    "2. Find if they resemble requirements or not\n",
    "3. Check if they are specific kinds of requirements (like signalling)\n",
    "4. Write new requirements based on the text in these sections. "
   ]
  },
  {
   "cell_type": "code",
   "execution_count": 46,
   "metadata": {},
   "outputs": [],
   "source": [
    "# This is only for Miroslaw\n",
    "#import os\n",
    "#os.environ['HF_HOME'] = '/mnt/c/cache'"
   ]
  },
  {
   "cell_type": "code",
   "execution_count": 47,
   "metadata": {},
   "outputs": [],
   "source": [
    "# Importing required libraries\n",
    "\n",
    "# docx2python is used to extract text, images, tables, and other data from .docx files\n",
    "from docx2python import docx2python\n",
    "\n",
    "# os module provides functions for interacting with the operating system\n",
    "import os\n",
    "\n",
    "# numpy is used for mathematical operations on large, multi-dimensional arrays and matrices\n",
    "import numpy as np\n",
    "\n",
    "# pandas is used for data manipulation and analysis\n",
    "import pandas as pd\n",
    "\n",
    "# TSNE from sklearn.manifold is used for dimensionality reduction\n",
    "from sklearn.manifold import TSNE\n",
    "\n",
    "# matplotlib.pyplot is used for creating static, animated, and interactive visualizations in Python\n",
    "import matplotlib.pyplot as plt\n",
    "\n",
    "# SentenceTransformer is used for training and using transformer models for generating sentence embeddings\n",
    "from sentence_transformers import SentenceTransformer\n",
    "\n",
    "# tqdm is used to make loops show a smart progress meter\n",
    "from tqdm import tqdm\n",
    "\n",
    "# torch is the main package in PyTorch, it provides a multi-dimensional array with support for autograd operations like backward()\n",
    "import torch\n",
    "\n",
    "# AutoModelForCausalLM, AutoTokenizer, pipeline are from the transformers library by Hugging Face which provides state-of-the-art machine learning models like BERT, GPT-2, etc.\n",
    "from transformers import AutoModelForCausalLM, AutoTokenizer, pipeline\n",
    "\n",
    "# euclidean distance and cosine distance\n",
    "from scipy.spatial import distance\n",
    "\n",
    "# random generator for the last figure\n",
    "import random"
   ]
  },
  {
   "cell_type": "code",
   "execution_count": 48,
   "metadata": {},
   "outputs": [],
   "source": [
    "# input folder\n",
    "docInputFolder = \"./23_limited\"\n",
    "\n",
    "# name of file with generated requirements\n",
    "generatedFile = \"./23_output_generated_mini_limited.xlsx\"\n",
    "\n",
    "# embedding model\n",
    "# in order of size -- the last one is only for A6000 :) \n",
    "\n",
    "# model = SentenceTransformer(\"all-MiniLM-L6-v2\")\n",
    "model = SentenceTransformer(\"sentence-t5-large\")\n",
    "# model = SentenceTransformer(\"sentence-transformers/gtr-t5-xxl\")\n",
    "\n",
    "\n",
    "# generative model\n",
    "modelP = \"microsoft/Phi-3-mini-128k-instruct\""
   ]
  },
  {
   "cell_type": "code",
   "execution_count": 49,
   "metadata": {},
   "outputs": [
    {
     "data": {
      "text/plain": [
       "True"
      ]
     },
     "execution_count": 49,
     "metadata": {},
     "output_type": "execute_result"
    }
   ],
   "source": [
    "torch.cuda.is_available()"
   ]
  },
  {
   "cell_type": "code",
   "execution_count": 50,
   "metadata": {},
   "outputs": [],
   "source": [
    "# suppress warnings\n",
    "import warnings\n",
    "\n",
    "warnings.filterwarnings(\"ignore\")"
   ]
  },
  {
   "cell_type": "markdown",
   "metadata": {},
   "source": [
    "## Part 1: List the documents's sections with \"latency\"\n",
    "\n",
    "In the first step, we go through the documents in the folder \"input_standards\" and we extract which sections of these documents contain th word \"latency\". We store the results in a dictionary."
   ]
  },
  {
   "cell_type": "code",
   "execution_count": 59,
   "metadata": {},
   "outputs": [],
   "source": [
    "def extractLatencySections(doc):\n",
    "    strSectionTitle = \"\"\n",
    "    dictSections = {}\n",
    "    listLatency = []\n",
    "    skippedSections = 0\n",
    "\n",
    "    doc_result = docx2python(doc,paragraph_styles = True, html=True)\n",
    "\n",
    "    # we iterate over all lines\n",
    "    # look for the section titles (which have the tag <h1>, <h2>, <h3>, etc.)\n",
    "    # then we add the content of each section to the dictionary\n",
    "    # and if there is a word \"latency\" somewhere in the section, we add the section title to the listLatency\n",
    "    for oneLine in tqdm(doc_result.text.split('\\n')):\n",
    "        if \"<h\" in oneLine:\n",
    "            strSectionTitle = oneLine\n",
    "            dictSections[strSectionTitle] = []\n",
    "\n",
    "        if strSectionTitle != \"\":  \n",
    "            dictSections[strSectionTitle].append(oneLine)\n",
    "\n",
    "        keywordsInLine = [\"latency\"]\n",
    "        keywordsInSections = [\"references\", \n",
    "                              \"introduction\", \n",
    "                              \"definition\", \n",
    "                              \"abstract\", \n",
    "                              \"conclusion\", \n",
    "                              \"acknowledgements\", \n",
    "                              \"appendix\", \n",
    "                              \"table of contents\", \n",
    "                              \"table of figures\", \n",
    "                              \"table of tables\",  \n",
    "                              \"bibliography\", \n",
    "                              \"index\", \n",
    "                              \"glossary\", \n",
    "                              \"list of figures\", \n",
    "                              \"list of tables\", \n",
    "                              \"list of abbreviations\", \n",
    "                              \"list of symbols\", \n",
    "                              \"list of terms\", \n",
    "                              \"list of equations\", \n",
    "                              \"list of algorithms\", \n",
    "                              \"list of acronyms\", \n",
    "                              \"list of illustrations\", \n",
    "                              \"list of appendices\"]\n",
    "\n",
    "        if any(word in oneLine.lower() for word in keywordsInLine) and not any(word in strSectionTitle.lower() for word in keywordsInSections): \n",
    "            listLatency.append(strSectionTitle)\n",
    "        else:\n",
    "            skippedSections += 1\n",
    "            \n",
    "            \n",
    "    # remove the keys from the dictionary if they are not part of the listLatency\n",
    "    # as we want to get only the relevant sections, i.e., the one with the word latency\n",
    "    for key in list(dictSections.keys()):\n",
    "        if key not in listLatency:\n",
    "            del dictSections[key]\n",
    "\n",
    "    # print(\"Skipped sections: \", skippedSections)\n",
    "\n",
    "    # return the dictionary with the relevant sections\n",
    "    return dictSections\n"
   ]
  },
  {
   "cell_type": "code",
   "execution_count": 62,
   "metadata": {},
   "outputs": [
    {
     "name": "stderr",
     "output_type": "stream",
     "text": [
      "100%|██████████| 25005/25005 [00:00<00:00, 2528961.72it/s]\n",
      " 25%|██▌       | 1/4 [00:01<00:04,  1.61s/it]"
     ]
    },
    {
     "name": "stdout",
     "output_type": "stream",
     "text": [
      "Found\n",
      "3.14.10\tMaximum-Latency\t113\n",
      "Found\n",
      "3.14.10\tMaximum-Latency\n"
     ]
    },
    {
     "name": "stderr",
     "output_type": "stream",
     "text": [
      "100%|██████████| 8246/8246 [00:00<00:00, 2226629.16it/s]\n",
      "100%|██████████| 9194/9194 [00:00<00:00, 2230589.48it/s]\n",
      "100%|██████████| 25005/25005 [00:00<00:00, 2204674.52it/s]\n",
      "100%|██████████| 4/4 [00:04<00:00,  1.17s/it]"
     ]
    },
    {
     "name": "stdout",
     "output_type": "stream",
     "text": [
      "Found\n",
      "3.14.10\tMaximum-Latency\t113\n",
      "Found\n",
      "<h3>3.14.10\tMaximum-Latency</h3>\n"
     ]
    },
    {
     "name": "stderr",
     "output_type": "stream",
     "text": [
      "\n"
     ]
    }
   ],
   "source": [
    "\n",
    "\n",
    "# this is the return list of all the lines in the document\n",
    "lstAllLines = []\n",
    "\n",
    "# for each .docx file in the input folder\n",
    "# extract the sections with latency using the extractLatencySections function\n",
    "# and print the sections\n",
    "for doc in tqdm(os.listdir(docInputFolder)):    \n",
    "\n",
    "    if doc.endswith(\".docx\"):\n",
    "        #print(f\"Processing {doc}\")\n",
    "\n",
    "        # since things can go wrong with the latency library, \n",
    "        # we use a try except block to avoid the program to stop\n",
    "        try: \n",
    "            dictSections = extractLatencySections(os.path.join(docInputFolder, doc))\n",
    "        \n",
    "            # we list the content\n",
    "            # as a long list of sections \n",
    "            for key in dictSections:\n",
    "\n",
    "                lstOneLine = [key, doc]\n",
    "\n",
    "                for line in dictSections[key]:\n",
    "                    lstOneLine.append(line)\n",
    "                    \n",
    "                lstAllLines.append(lstOneLine)\n",
    "\n",
    "        except Exception as e:\n",
    "            print(f\"Error with {doc}: {e}\")"
   ]
  },
  {
   "cell_type": "code",
   "execution_count": 63,
   "metadata": {},
   "outputs": [
    {
     "data": {
      "text/plain": [
       "array(['<h3>8.14.1\\tGeneral</h3>', '<h3>8.15.1\\tGeneral</h3>',\n",
       "       '<h3>8.16.1\\tGeneral</h3>', '<h3>3.14.10\\tMaximum-Latency</h3>',\n",
       "       '<h2>5.9\\tArchitecture Enhancements for Service Exposure storage (AESE)</h2>'],\n",
       "      dtype=object)"
      ]
     },
     "execution_count": 63,
     "metadata": {},
     "output_type": "execute_result"
    }
   ],
   "source": [
    "dfTest = pd.DataFrame(lstAllLines)\n",
    "\n",
    "dfTest[0].unique()"
   ]
  },
  {
   "cell_type": "code",
   "execution_count": null,
   "metadata": {},
   "outputs": [
    {
     "name": "stderr",
     "output_type": "stream",
     "text": [
      "100%|██████████| 7/7 [00:02<00:00,  3.12it/s]\n"
     ]
    }
   ],
   "source": [
    "\n",
    "\n",
    "# list with all embeddings for the sections\n",
    "lstEmbeddings = []\n",
    "iCounter = 0\n",
    "\n",
    "for oneLine in tqdm(lstAllLines):\n",
    "\n",
    "    # the content of the section starts on the third position of the list\n",
    "    sentences = oneLine[3:]\n",
    "\n",
    "    # Sentences are encoded by calling model.encode()\n",
    "    embeddings = model.encode(sentences)\n",
    "    \n",
    "    # Print the average embeddings for all the sentences \n",
    "    # in this section\n",
    "    avg_embeddings = embeddings.mean(axis=0)\n",
    "    \n",
    "    lstOneLine = [oneLine[0], oneLine[1], 2, str(sentences).replace(\"$\", \"_\").replace(\"\\n\", \"_\"), avg_embeddings]\n",
    "\n",
    "    lstEmbeddings.append(lstOneLine)"
   ]
  },
  {
   "cell_type": "code",
   "execution_count": null,
   "metadata": {},
   "outputs": [],
   "source": [
    "# save the lstEmbeddings to an xlsx file topic_relevant.xlsx\n",
    "df = pd.DataFrame(lstEmbeddings, columns=[\"Section\", \"Document\", \"Category\", \"Sentences\", \"Embeddings\"])\n",
    "df.to_excel(\"topic_relevant.xlsx\", index=False)"
   ]
  },
  {
   "cell_type": "code",
   "execution_count": null,
   "metadata": {},
   "outputs": [
    {
     "data": {
      "image/png": "[encoded data removed]",
      "text/plain": [
       "<Figure size 1600x1000 with 1 Axes>"
      ]
     },
     "metadata": {},
     "output_type": "display_data"
    }
   ],
   "source": [
    "# let's plot these average embeddings using t-SNE\n",
    "\n",
    "# we create a list with the embeddings\n",
    "lstEmbeddingsNP = np.array([x[4] for x in lstEmbeddings])\n",
    "\n",
    "# we use t-SNE to reduce the dimensionality of the embeddings\n",
    "tsne = TSNE(n_components=2, verbose=0, perplexity=3, n_iter=300)\n",
    "tsne_results = tsne.fit_transform(lstEmbeddingsNP)\n",
    "\n",
    "# we plot the t-SNE results\n",
    "plt.figure(figsize=(16,10))\n",
    "\n",
    "plt.scatter(tsne_results[:,0], tsne_results[:,1])\n",
    "\n",
    "# Add labels to each dot\n",
    "for i, label in enumerate([x[0] for x in lstEmbeddings]):\n",
    "    plt.text(tsne_results[i, 0], tsne_results[i, 1], label[3:10])\n",
    "\n",
    "\n",
    "plt.show()"
   ]
  },
  {
   "cell_type": "markdown",
   "metadata": {},
   "source": [
    "## Part 2: Requirements classes\n",
    "\n",
    "Checking whether these are signalling, payload, etc. requirements "
   ]
  },
  {
   "cell_type": "code",
   "execution_count": null,
   "metadata": {},
   "outputs": [
    {
     "name": "stderr",
     "output_type": "stream",
     "text": [
      "  0%|          | 0/16 [00:00<?, ?it/s]"
     ]
    },
    {
     "name": "stderr",
     "output_type": "stream",
     "text": [
      "100%|██████████| 16/16 [00:00<00:00, 103.60it/s]\n"
     ]
    }
   ],
   "source": [
    "# read the requirements from the excel file requirements.xlsx, worksheet LR\n",
    "df = pd.read_excel(\"req_classes.xlsx\", sheet_name=\"LR\")\n",
    "\n",
    "# convert to list\n",
    "lstRequirements = df.values.tolist()\n",
    "lstRequirements[0]\n",
    "\n",
    "# now we calculate the embeddings for each of these requirements\n",
    "lstEmbeddingsReq = []\n",
    "\n",
    "for oneLine in tqdm(lstRequirements):\n",
    "    \n",
    "        # the content of the section starts on the third position of the list\n",
    "        sentences = oneLine[1]\n",
    "    \n",
    "        # Sentences are encoded by calling model.encode()\n",
    "        embeddings = model.encode(sentences)\n",
    "        \n",
    "        # Print the average embeddings for all the sentences \n",
    "        # in this section\n",
    "        avg_embedding = embeddings\n",
    "        \n",
    "        lstOneLine = [oneLine[0], 'latency', oneLine[1], oneLine[1], avg_embedding]\n",
    "    \n",
    "        lstEmbeddingsReq.append(lstOneLine)"
   ]
  },
  {
   "cell_type": "code",
   "execution_count": null,
   "metadata": {},
   "outputs": [
    {
     "name": "stderr",
     "output_type": "stream",
     "text": [
      "100%|██████████| 7/7 [00:00<00:00, 11604.79it/s]\n"
     ]
    }
   ],
   "source": [
    "# now we calculate the euclidean distance between the requirements and the sections\n",
    "# that are relevant\n",
    "lstDist = []\n",
    "lstRelevantDist = []\n",
    "\n",
    "for oneLine in tqdm(lstEmbeddings):\n",
    "    for oneLineReq in lstEmbeddingsReq:\n",
    "        # euclidean distance between the two embeddings\n",
    "        dist = distance.cosine(oneLine[4], oneLineReq[4])\n",
    "        lstDist.append([oneLine[0], oneLine[1], oneLineReq[0], dist, oneLine[3]])\n",
    "\n",
    "# now we sort the list by the distance\n",
    "lstDist.sort(key=lambda x: x[2])\n",
    "\n",
    "# and we print them\n",
    "for i in range(len(lstDist)):\n",
    "    # print(f\"Section {lstDist[i][0]} is close to requirement {lstDist[i][2]} with distance {lstDist[i][3]:.2f}\")\n",
    "    # add this to a list\n",
    "    lstRelevantDist.append([lstDist[i][0], lstDist[i][1], lstDist[i][2], lstDist[i][3], lstDist[i][4]])"
   ]
  },
  {
   "cell_type": "code",
   "execution_count": null,
   "metadata": {},
   "outputs": [],
   "source": [
    "# save the list to an Excel file\n",
    "dfOutput = pd.DataFrame(lstRelevantDist, columns=[\"Section\", \"Document\", \"Requirement\", \"Distance\", \"Content\"])\n",
    "\n",
    "# sort it by section and document\n",
    "dfOutput = dfOutput.sort_values(by=[\"Section\", \"Document\"])\n",
    "\n",
    "# average the distance in dfOutput per section, document and requirement\n",
    "dfOutput[\"Distance\"] = dfOutput[\"Distance\"].astype(float)\n",
    "dfGrouped = dfOutput.groupby([\"Section\", \"Document\", \"Requirement\", \"Content\"])\n",
    "\n",
    "#convert dfGrouped to a dataframe\n",
    "dfGrouped = dfGrouped.agg({\"Distance\": \"mean\"}).reset_index()"
   ]
  },
  {
   "cell_type": "code",
   "execution_count": null,
   "metadata": {},
   "outputs": [],
   "source": [
    "# now check the minimum distance per section and document\n",
    "dfGrouped = dfGrouped.sort_values(by=[\"Section\", \"Document\", \"Distance\"])\n",
    "\n",
    "dfGrouped = dfGrouped.groupby([\"Section\", \"Document\"]).first().reset_index()"
   ]
  },
  {
   "cell_type": "code",
   "execution_count": null,
   "metadata": {},
   "outputs": [
    {
     "name": "stdout",
     "output_type": "stream",
     "text": [
      "7\n"
     ]
    }
   ],
   "source": [
    "# now we turn this into a list of lists\n",
    "lstRelevantDistGroup = dfGrouped.values.tolist()\n",
    "\n",
    "print(len(lstRelevantDistGroup))"
   ]
  },
  {
   "cell_type": "code",
   "execution_count": null,
   "metadata": {},
   "outputs": [],
   "source": [
    "# convert to dataframe and save to excel lstRelevantDist\n",
    "dfRelevantDist = pd.DataFrame(lstRelevantDistGroup, columns=[\"Section\", \"Document\", \"Requirement\", \"Content\", \"Distance\"])\n",
    "\n",
    "dfRelevantDist.to_excel(\"./classified_requirements.xlsx\", index=False)"
   ]
  },
  {
   "cell_type": "markdown",
   "metadata": {},
   "source": [
    "## Part 3: Check if the requirements exist in the database\n",
    "\n",
    "In this step, we check if the text that we identified so far is covered by the requirements that exist in the database. We use the sentence transformers to get the embeddings of the text and then we compare them to the existin sections. "
   ]
  },
  {
   "cell_type": "code",
   "execution_count": null,
   "metadata": {},
   "outputs": [],
   "source": [
    "thresholdPartial = 0.15\n",
    "thresholdCovered = 0.20"
   ]
  },
  {
   "cell_type": "code",
   "execution_count": null,
   "metadata": {},
   "outputs": [],
   "source": [
    "# read the requirements from the Excel file\n",
    "dfRelevantSections = pd.read_excel(\"./classified_requirements.xlsx\")\n",
    "\n",
    "lstRelevantSections = dfRelevantSections.values.tolist()"
   ]
  },
  {
   "cell_type": "code",
   "execution_count": null,
   "metadata": {},
   "outputs": [
    {
     "data": {
      "text/plain": [
       "['<h1>E.4\\tSession Breakout</h1>',\n",
       " '23548-i20.docx',\n",
       " 'LR1_signalling',\n",
       " '[\\'\\', \\'As traffic offload via UL CL/BP is not supported over EPC, when a PDN connection is initiated in EPS or a PDU Session is handed-over to EPS, the SMF+PGW-C can send to the EASDF DNS message handling rules requesting the EASDF to transparently forward any DNS traffic. The SMF+PGW-C can send to the EASDF new DNS message handling rules (with actual reporting and actions as defined in clause 6.2.3.2.2) when the PDU Session/PDN connection is handed-over (back) to 5GS.\\', \\'\\', \\'When a PDN connection is initiated in EPS, the SMF+PGW-C can also select a normal DNS Server (i.e. different from an EASDF) to serve the PDN Connection, and then indicate to the UE to use the EASDF as DNS Server when the PDU Session/PDN connection is moved to 5GS.\\', \\'\\', \\'\\', \\'\\', \\'\\', \\'Annex F (Informative):\\', \\'EAS Relocation on Simultaneous Connectivity over Source and Target PSA\\', \\'\\', \\'This annex describes how EAS relocation can make use of network capabilities that, at PSA change, provide simultaneous connectivity over the source and the target PSA during a transient period.\\', \\'\\', \\'At PSA change, simultaneous connectivity to Application over former and new PSA allows the application to build its own EAS relocation solution and minimize the impact on latency:\\', \\'\\', \\'-\\\\tIf the decision for when to start using a target EAS is taken by the application, this decision can consider application specific aspects, like for example, the time interval between packets or end of a video frame to minimize impact on latency.\\', \\'\\', \\'-\\\\tWhen there are multiple applications on a PDU Session, if connectivity over the former PSA is maintained for some time, each application can schedule EAS relocation to suit the application specific needs without interfering with the other applications.\\', \\'\\', \\'The procedure is shown in below Figure F-1:\\', \\'\\', \\'----media/image36.emf----\\', \\'\\', \\'Figure F-1: EAS relocation on simultaneous connectivity over source and target PSA\\', \\'\\', \\'The user has established a PDU Session. This PDU Session has a local PSA (source L-PSA), which could be the PSA of a PDU Session with Distributed Anchor connectivity or one additional local PSA of a PDU Session with Session Breakout. There has been an EAS Discovery procedure as described in clauses 6.2.2.2 and 6.2.3.2 (the procedure is conditioned to the connectivity model) for one or more applications. Application traffic is served by source EAS over the Local PSA.\\', \\'\\', \\'1.\\\\tUser mobility triggers SMF to select a new Local PSA (target L-PSA) that is closer to current user location. In this scenario, the re-anchoring procedures that provide Simultaneous Connectivity over Source and Target PSA are described in TS\\\\xa023.502\\\\xa0[3]:\\', \\'\\', \\'-\\\\tFor Distributed Anchor, in clause\\\\xa04.3.5.2 for Change of SSC mode 3 PDU Session Anchor with multiple PDU Sessions and in clause\\\\xa04.3.5.3 for Change of SSC mode 3 PDU Session Anchor with IPv6 Multi-homed PDU Session.\\', \\'\\', \\'-\\\\tFor Session Breakout, in clause\\\\xa04.3.5.7 for Simultaneous change of Branching Point or UL CL and additional PSA for a PDU Session.\\', \\'\\', \\'\\\\tThe SMF may notify an AF for the early and/or late notifications on the UP-path change event as described in clause\\\\xa04.3.6.3 in TS\\\\xa023.502\\\\xa0[3].\\', \\'\\', \\'2.\\\\tWhen the connectivity is available on target L-PSA, the connectivity via source L-PSA is still available during certain time (that is provisioned and controlled as described in these TS\\\\xa023.502\\\\xa0[3] procedures). The application traffic can continue to run over the established UE-EAS connections.\\', \\'\\', \\'3.\\\\tThe EAS Rediscovery Procedures described in clauses 6.2.2.3 and 6.2.3.3 allow the UE to discover a new EAS (i.e. target EAS) for the application that is closer to the UE over the new path (there could be multiple triggers as described in those respective clauses). If multiple applications are being served by this PDU Session, each of them performs rediscovery. This discovery procedure may lead to EAS reselection.\\', \\'\\', \\'4.\\\\tNew L4 connections may now be established between the UE and the target EAS with the following considerations:\\', \\'\\', \\'-\\\\tFor Distributed anchor or session breakout with MH, the UE uses the IP address /prefix associated with the target PSA (that is referred to as IP#2 in Figure F-1).\\', \\'\\', \\'-\\\\tFor Session breakout with ULCL, there has not been connection/IP address change. Same IP address is still used by UE (that is referred to as IP#1 in Figure F-1).\\', \\'\\', \\'NOTE\\\\xa01:\\\\tIf Session Breakout is used for connectivity and if the application wants to build service continuity on simultaneous connections, source EAS and target EAS cannot share the same IP address (e.g. by using anycast).\\', \\'\\', \\'\\\\tEAS Relocation may involve EAS context migration in the case of stateful applications. The following examples are part of the application implementation details and fall out of 3GPP specification scope:\\', \\'\\', \\'-\\\\tIn case that SMF notifies an AF for the early and/or late notification in Step 1, based on the notifications, the AF can interact with the source Application server, which can recreate the context to the target EAS and then provide switching instructions to the Application client.\\', \\'\\', \\'-\\\\tThe Application server can recreate the service context when first contacted by the client using a Context Id: when suitable, the application client sets up a connection to the target EAS including a Context Id. The target EAS uses this Context Id to retrieve the latest service context available and subsequent updates, if needed.\\', \\'\\', \\'-\\\\tThe Application server can recreate the context when first contacted by the client using a Context Id: the application client sets up a connection to the target EAS but for some time it sends traffic to both source and target EAS. In this way it triggers the context migration before the actual EAS switch.\\', \\'\\', \\'-\\\\tThe source Application server is able to provide the client with switching instructions when a new EAS is selected: upon UE request (if UE selected) or as an EAS initiative (if server selected), the source EAS provides the Application client with switching instructions while it continues to serve traffic and drives any context migration towards the selected target EAS.\\', \\'\\', \\'NOTE\\\\xa02:\\\\tThis application procedure may be designed to solve EAS relocation in all scenarios, not only when triggered by Edge Relocation, which may simplify the application design.\\', \\'\\', \\'5.\\\\tAt some points all traffic for all applications in this session are sending traffic to their target EAS only and traffic ceases over the source L- PSA. The source L-PSA is then released. The timers should be set to allow EAS relocation.\\', \\'\\', \\'6.\\\\tUE only maintains connection(s) to target EAS(s).\\', \\'\\', \\'\\', \\'\\', \\'\\', \\'Annex G (Informative):\\', \\'Change history\\', \\'\\', \\'<b>Change history</b>\\', \\'\\', \\'<span style=\"font-size:16pt\"><b>Date</b></span>\\', \\'\\', \\'<span style=\"font-size:16pt\"><b>Meeting</b></span>\\', \\'\\', \\'<span style=\"font-size:16pt\"><b>TDoc</b></span>\\', \\'\\', \\'<span style=\"font-size:16pt\"><b>CR</b></span>\\', \\'\\', \\'<span style=\"font-size:16pt\"><b>Rev</b></span>\\', \\'\\', \\'<span style=\"font-size:16pt\"><b>Cat</b></span>\\', \\'\\', \\'<span style=\"font-size:16pt\"><b>Subject/Comment</b></span>\\', \\'\\', \\'<span style=\"font-size:16pt\"><b>New version</b></span>\\', \\'\\', \\'<span style=\"color:0000FF;font-size:16pt\">2021-03</span>\\', \\'\\', \\'<span style=\"color:0000FF;font-size:16pt\">SA2#143E</span>\\', \\'\\', \\'<span style=\"color:0000FF;font-size:16pt\">S2-2100114</span>\\', \\'\\', \\'<span style=\"color:0000FF;font-size:16pt\">-</span>\\', \\'\\', \\'<span style=\"color:0000FF;font-size:16pt\">-</span>\\', \\'\\', \\'<span style=\"color:0000FF;font-size:16pt\">-</span>\\', \\'\\', \\'<span style=\"color:0000FF;font-size:16pt\">Proposed skeleton approved at S2#143E</span>\\', \\'\\', \\'<span style=\"color:0000FF;font-size:16pt\">0.0.0</span>\\', \\'\\', \\'<span style=\"color:0000FF;font-size:16pt\">2021-06</span>\\', \\'\\', \\'<span style=\"color:0000FF;font-size:16pt\">SA#92E</span>\\', \\'\\', \\'<span style=\"color:0000FF;font-size:16pt\">SP-210365</span>\\', \\'\\', \\'<span style=\"color:0000FF;font-size:16pt\">-</span>\\', \\'\\', \\'<span style=\"color:0000FF;font-size:16pt\">-</span>\\', \\'\\', \\'<span style=\"color:0000FF;font-size:16pt\">-</span>\\', \\'\\', \\'<span style=\"color:0000FF;font-size:16pt\">MCC editorial update for presentation to TSG SA#92E for information</span>\\', \\'\\', \\'<span style=\"color:0000FF;font-size:16pt\">1.0.0</span>\\', \\'\\', \\'<span style=\"color:0000FF;font-size:16pt\">2021-09</span>\\', \\'\\', \\'<span style=\"color:0000FF;font-size:16pt\">SA#93E</span>\\', \\'\\', \\'<span style=\"color:0000FF;font-size:16pt\">SP-210942</span>\\', \\'\\', \\'<span style=\"color:0000FF;font-size:16pt\">-</span>\\', \\'\\', \\'<span style=\"color:0000FF;font-size:16pt\">-</span>\\', \\'\\', \\'<span style=\"color:0000FF;font-size:16pt\">-</span>\\', \\'\\', \\'<span style=\"color:0000FF;font-size:16pt\">MCC editorial update for presentation to TSG SA#93E for approval</span>\\', \\'\\', \\'<span style=\"color:0000FF;font-size:16pt\">2.0.0</span>\\', \\'\\', \\'<span style=\"color:0000FF;font-size:16pt\">2021-09</span>\\', \\'\\', \\'<span style=\"color:0000FF;font-size:16pt\">SA#93E</span>\\', \\'\\', \\'<span style=\"color:0000FF;font-size:16pt\">-</span>\\', \\'\\', \\'<span style=\"color:0000FF;font-size:16pt\">-</span>\\', \\'\\', \\'<span style=\"color:0000FF;font-size:16pt\">-</span>\\', \\'\\', \\'<span style=\"color:0000FF;font-size:16pt\">-</span>\\', \\'\\', \\'<span style=\"color:0000FF;font-size:16pt\">MCC editorial update for publication after SA#93E approval</span>\\', \\'\\', \\'<span style=\"color:0000FF;font-size:16pt\">17.0.0</span>\\', \\'\\', \\'<span style=\"font-size:16pt\">2021-12</span>\\', \\'\\', \\'<span style=\"font-size:16pt\">SA#94E</span>\\', \\'\\', \\'<span style=\"font-size:16pt\">SP-211290</span>\\', \\'\\', \\'<span style=\"font-size:16pt\">0001</span>\\', \\'\\', \\'<span style=\"font-size:16pt\">3</span>\\', \\'\\', \\'<span style=\"font-size:16pt\">F</span>\\', \\'\\', \\'<span style=\"font-size:16pt\">Correction related to uniqueness of Update related to a buffered DNS message in EASDF</span>\\', \\'\\', \\'<span style=\"font-size:16pt\">17.1.0</span>\\', \\'\\', \\'<span style=\"font-size:16pt\">2021-12</span>\\', \\'\\', \\'<span style=\"font-size:16pt\">SA#94E</span>\\', \\'\\', \\'<span style=\"font-size:16pt\">SP-211290</span>\\', \\'\\', \\'<span style=\"font-size:16pt\">0003</span>\\', \\'\\', \\'<span style=\"font-size:16pt\">-</span>\\', \\'\\', \\'<span style=\"font-size:16pt\">F</span>\\', \\'\\', \\'<span style=\"font-size:16pt\">Correction and removal of misleading Note</span>\\', \\'\\', \\'<span style=\"font-size:16pt\">17.1.0</span>\\', \\'\\', \\'<span style=\"font-size:16pt\">2021-12</span>\\', \\'\\', \\'<span style=\"font-size:16pt\">SA#94E</span>\\', \\'\\', \\'<span style=\"font-size:16pt\">SP-211290</span>\\', \\'\\', \\'<span style=\"font-size:16pt\">0005</span>\\', \\'\\', \\'<span style=\"font-size:16pt\">1</span>\\', \\'\\', \\'<span style=\"font-size:16pt\">F</span>\\', \\'\\', \\'<span style=\"font-size:16pt\">Not all EC scenarios requires EASDF</span>\\', \\'\\', \\'<span style=\"font-size:16pt\">17.1.0</span>\\', \\'\\', \\'<span style=\"font-size:16pt\">2021-12</span>\\', \\'\\', \\'<span style=\"font-size:16pt\">SA#94E</span>\\', \\'\\', \\'<span style=\"font-size:16pt\">SP-211290</span>\\', \\'\\', \\'<span style=\"font-size:16pt\">0014</span>\\', \\'\\', \\'<span style=\"font-size:16pt\">1</span>\\', \\'\\', \\'<span style=\"font-size:16pt\">F</span>\\', \\'\\', \\'<span style=\"font-size:16pt\">Clarify the local AF subscription for the QoS Monitoring during UE mobility</span>\\', \\'\\', \\'<span style=\"font-size:16pt\">17.1.0</span>\\', \\'\\', \\'<span style=\"font-size:16pt\">2021-12</span>\\', \\'\\', \\'<span style=\"font-size:16pt\">SA#94E</span>\\', \\'\\', \\'<span style=\"font-size:16pt\">SP-211290</span>\\', \\'\\', \\'<span style=\"font-size:16pt\">0017</span>\\', \\'\\', \\'<span style=\"font-size:16pt\">4</span>\\', \\'\\', \\'<span style=\"font-size:16pt\">F</span>\\', \\'\\', \\'<span style=\"font-size:16pt\">Updates on EAS Discovery Procedure with EASDF</span>\\', \\'\\', \\'<span style=\"font-size:16pt\">17.1.0</span>\\', \\'\\', \\'<span style=\"font-size:16pt\">2021-12</span>\\', \\'\\', \\'<span style=\"font-size:16pt\">SA#94E</span>\\', \\'\\', \\'<span style=\"font-size:16pt\">SP-211290</span>\\', \\'\\', \\'<span style=\"font-size:16pt\">0018</span>\\', \\'\\', \\'<span style=\"font-size:16pt\">3</span>\\', \\'\\', \\'<span style=\"font-size:16pt\">F</span>\\', \\'\\', \\'<span style=\"font-size:16pt\">Mega CR for minor fixes to TS 23.548</span>\\', \\'\\', \\'<span style=\"font-size:16pt\">17.1.0</span>\\', \\'\\', \\'<span style=\"font-size:16pt\">2021-12</span>\\', \\'\\', \\'<span style=\"font-size:16pt\">SA#94E</span>\\', \\'\\', \\'<span style=\"font-size:16pt\">SP-211290</span>\\', \\'\\', \\'<span style=\"font-size:16pt\">0024</span>\\', \\'\\', \\'<span style=\"font-size:16pt\">-</span>\\', \\'\\', \\'<span style=\"font-size:16pt\">F</span>\\', \\'\\', \\'<span style=\"font-size:16pt\">Update Neasdf_DNSContext services</span>\\', \\'\\', \\'<span style=\"font-size:16pt\">17.1.0</span>\\', \\'\\', \\'<span style=\"font-size:16pt\">2021-12</span>\\', \\'\\', \\'<span style=\"font-size:16pt\">SA#94E</span>\\', \\'\\', \\'<span style=\"font-size:16pt\">SP-211290</span>\\', \\'\\', \\'<span style=\"font-size:16pt\">0030</span>\\', \\'\\', \\'<span style=\"font-size:16pt\">4</span>\\', \\'\\', \\'<span style=\"font-size:16pt\">C</span>\\', \\'\\', \\'<span style=\"font-size:16pt\">EAS rediscovery: Edge DNS Client based EAS (re-)discovery</span>\\', \\'\\', \\'<span style=\"font-size:16pt\">17.1.0</span>\\', \\'\\', \\'<span style=\"font-size:16pt\">2021-12</span>\\', \\'\\', \\'<span style=\"font-size:16pt\">SA#94E</span>\\', \\'\\', \\'<span style=\"font-size:16pt\">SP-211290</span>\\', \\'\\', \\'<span style=\"font-size:16pt\">0031</span>\\', \\'\\', \\'<span style=\"font-size:16pt\">3</span>\\', \\'\\', \\'<span style=\"font-size:16pt\">F</span>\\', \\'\\', \\'<span style=\"font-size:16pt\">UE authorization for 5GC assisted EAS discovery</span>\\', \\'\\', \\'<span style=\"font-size:16pt\">17.1.0</span>\\', \\'\\', \\'<span style=\"font-size:16pt\">2021-12</span>\\', \\'\\', \\'<span style=\"font-size:16pt\">SA#94E</span>\\', \\'\\', \\'<span style=\"font-size:16pt\">SP-211290</span>\\', \\'\\', \\'<span style=\"font-size:16pt\">0034</span>\\', \\'\\', \\'<span style=\"font-size:16pt\">1</span>\\', \\'\\', \\'<span style=\"font-size:16pt\">F</span>\\', \\'\\', \\'<span style=\"font-size:16pt\">Updating related to EAS Discovery Procedure</span>\\', \\'\\', \\'<span style=\"font-size:16pt\">17.1.0</span>\\', \\'\\', \\'<span style=\"font-size:16pt\">2021-12</span>\\', \\'\\', \\'<span style=\"font-size:16pt\">SA#94E</span>\\', \\'\\', \\'<span style=\"font-size:16pt\">SP-211290</span>\\', \\'\\', \\'<span style=\"font-size:16pt\">0035</span>\\', \\'\\', \\'<span style=\"font-size:16pt\">1</span>\\', \\'\\', \\'<span style=\"font-size:16pt\">F</span>\\', \\'\\', \\'<span style=\"font-size:16pt\">Corrections on enabling EAS IP Replacement procedure by AF</span>\\', \\'\\', \\'<span style=\"font-size:16pt\">17.1.0</span>\\', \\'\\', \\'<span style=\"font-size:16pt\">2021-12</span>\\', \\'\\', \\'<span style=\"font-size:16pt\">SA#94E</span>\\', \\'\\', \\'<span style=\"font-size:16pt\">SP-211290</span>\\', \\'\\', \\'<span style=\"font-size:16pt\">0036</span>\\', \\'\\', \\'<span style=\"font-size:16pt\">1</span>\\', \\'\\', \\'<span style=\"font-size:16pt\">F</span>\\', \\'\\', \\'<span style=\"font-size:16pt\">Improvements and correction to annex C </span>\\', \\'\\', \\'<span style=\"font-size:16pt\">17.1.0</span>\\', \\'\\', \\'<span style=\"font-size:16pt\">2021-12</span>\\', \\'\\', \\'<span style=\"font-size:16pt\">SA#94E</span>\\', \\'\\', \\'<span style=\"font-size:16pt\">SP-211290</span>\\', \\'\\', \\'<span style=\"font-size:16pt\">0038</span>\\', \\'\\', \\'<span style=\"font-size:16pt\">1</span>\\', \\'\\', \\'<span style=\"font-size:16pt\">F</span>\\', \\'\\', \\'<span style=\"font-size:16pt\">Change of DNS server address during EPC IWK</span>\\', \\'\\', \\'<span style=\"font-size:16pt\">17.1.0</span>\\', \\'\\', \\'<span style=\"font-size:16pt\">2021-12</span>\\', \\'\\', \\'<span style=\"font-size:16pt\">SA#94E</span>\\', \\'\\', \\'<span style=\"font-size:16pt\">SP-211290</span>\\', \\'\\', \\'<span style=\"font-size:16pt\">0039</span>\\', \\'\\', \\'<span style=\"font-size:16pt\">1</span>\\', \\'\\', \\'<span style=\"font-size:16pt\">F</span>\\', \\'\\', \\'<span style=\"font-size:16pt\">Alignment of EASDF functional description</span>\\', \\'\\', \\'<span style=\"font-size:16pt\">17.1.0</span>\\', \\'\\', \\'<span style=\"font-size:16pt\">2021-12</span>\\', \\'\\', \\'<span style=\"font-size:16pt\">SA#94E</span>\\', \\'\\', \\'<span style=\"font-size:16pt\">SP-211290</span>\\', \\'\\', \\'<span style=\"font-size:16pt\">0040</span>\\', \\'\\', \\'<span style=\"font-size:16pt\">1</span>\\', \\'\\', \\'<span style=\"font-size:16pt\">F</span>\\', \\'\\', \\'<span style=\"font-size:16pt\">Added the situation of AF relocation to uplink Packet Buffer</span>\\', \\'\\', \\'<span style=\"font-size:16pt\">17.1.0</span>\\', \\'\\', \\'<span style=\"font-size:16pt\">2021-12</span>\\', \\'\\', \\'<span style=\"font-size:16pt\">SA#94E</span>\\', \\'\\', \\'<span style=\"font-size:16pt\">SP-211290</span>\\', \\'\\', \\'<span style=\"font-size:16pt\">0042</span>\\', \\'\\', \\'<span style=\"font-size:16pt\">1</span>\\', \\'\\', \\'<span style=\"font-size:16pt\">F</span>\\', \\'\\', \\'<span style=\"font-size:16pt\">Local NEF selection</span>\\', \\'\\', \\'<span style=\"font-size:16pt\">17.1.0</span>\\', \\'\\', \\'<span style=\"font-size:16pt\">2022-03</span>\\', \\'\\', \\'<span style=\"font-size:16pt\">SA#95E</span>\\', \\'\\', \\'<span style=\"font-size:16pt\">SP-220055</span>\\', \\'\\', \\'<span style=\"font-size:16pt\">0043</span>\\', \\'\\', \\'<span style=\"font-size:16pt\">1</span>\\', \\'\\', \\'<span style=\"font-size:16pt\">F</span>\\', \\'\\', \\'<span style=\"font-size:16pt\">Corrections on enabling EAS IP Replacement procedure by AF</span>\\', \\'\\', \\'<span style=\"font-size:16pt\">17.2.0</span>\\', \\'\\', \\'<span style=\"font-size:16pt\">2022-03</span>\\', \\'\\', \\'<span style=\"font-size:16pt\">SA#95E</span>\\', \\'\\', \\'<span style=\"font-size:16pt\">SP-220055</span>\\', \\'\\', \\'<span style=\"font-size:16pt\">0046</span>\\', \\'\\', \\'<span style=\"font-size:16pt\">1</span>\\', \\'\\', \\'<span style=\"font-size:16pt\">F</span>\\', \\'\\', \\'<span style=\"font-size:16pt\">Correction related EHE in EC architecture</span>\\', \\'\\', \\'<span style=\"font-size:16pt\">17.2.0</span>\\', \\'\\', \\'<span style=\"font-size:16pt\">2022-03</span>\\', \\'\\', \\'<span style=\"font-size:16pt\">SA#95E</span>\\', \\'\\', \\'<span style=\"font-size:16pt\">SP-220055</span>\\', \\'\\', \\'<span style=\"font-size:16pt\">0047</span>\\', \\'\\', \\'<span style=\"font-size:16pt\">1</span>\\', \\'\\', \\'<span style=\"font-size:16pt\">F</span>\\', \\'\\', \\'<span style=\"font-size:16pt\">Update of EAS discovery procedure and BaselineDNSPattern management in EASDF</span>\\', \\'\\', \\'<span style=\"font-size:16pt\">17.2.0</span>\\', \\'\\', \\'<span style=\"font-size:16pt\">2022-03</span>\\', \\'\\', \\'<span style=\"font-size:16pt\">SA#95E</span>\\', \\'\\', \\'<span style=\"font-size:16pt\">SP-220055</span>\\', \\'\\', \\'<span style=\"font-size:16pt\">0048</span>\\', \\'\\', \\'<span style=\"font-size:16pt\">1</span>\\', \\'\\', \\'<span style=\"font-size:16pt\">F</span>\\', \\'\\', \\'<span style=\"font-size:16pt\">On NAT between PSA UPF and EASDF</span>\\', \\'\\', \\'<span style=\"font-size:16pt\">17.2.0</span>\\', \\'\\', \\'<span style=\"font-size:16pt\">2022-03</span>\\', \\'\\', \\'<span style=\"font-size:16pt\">SA#95E</span>\\', \\'\\', \\'<span style=\"font-size:16pt\">SP-220055</span>\\', \\'\\', \\'<span style=\"font-size:16pt\">0050</span>\\', \\'\\', \\'<span style=\"font-size:16pt\">1</span>\\', \\'\\', \\'<span style=\"font-size:16pt\">F</span>\\', \\'\\', \\'<span style=\"font-size:16pt\">Removing inconsistency in the definition of ECS Address Configuration Information</span>\\', \\'\\', \\'<span style=\"font-size:16pt\">17.2.0</span>\\', \\'\\', \\'<span style=\"font-size:16pt\">2022-03</span>\\', \\'\\', \\'<span style=\"font-size:16pt\">SA#95E</span>\\', \\'\\', \\'<span style=\"font-size:16pt\">SP-220055</span>\\', \\'\\', \\'<span style=\"font-size:16pt\">0051</span>\\', \\'\\', \\'<span style=\"font-size:16pt\">1</span>\\', \\'\\', \\'<span style=\"font-size:16pt\">F</span>\\', \\'\\', \\'<span style=\"font-size:16pt\">Corrections of EDC functionality description</span>\\', \\'\\', \\'<span style=\"font-size:16pt\">17.2.0</span>\\', \\'\\', \\'<span style=\"font-size:16pt\">2022-06</span>\\', \\'\\', \\'<span style=\"font-size:16pt\">SA#96</span>\\', \\'\\', \\'<span style=\"font-size:16pt\">SP-220398</span>\\', \\'\\', \\'<span style=\"font-size:16pt\">0052</span>\\', \\'\\', \\'<span style=\"font-size:16pt\">1</span>\\', \\'\\', \\'<span style=\"font-size:16pt\">F</span>\\', \\'\\', \\'<span style=\"font-size:16pt\">Correction related to EAS IP Address in EDI</span>\\', \\'\\', \\'<span style=\"font-size:16pt\">17.3.0</span>\\', \\'\\', \\'<span style=\"font-size:16pt\">2022-06</span>\\', \\'\\', \\'<span style=\"font-size:16pt\">SA#96</span>\\', \\'\\', \\'<span style=\"font-size:16pt\">SP-220398</span>\\', \\'\\', \\'<span style=\"font-size:16pt\">0053</span>\\', \\'\\', \\'<span style=\"font-size:16pt\">-</span>\\', \\'\\', \\'<span style=\"font-size:16pt\">F</span>\\', \\'\\', \\'<span style=\"font-size:16pt\">Corrections on enabling EAS IP Replacement procedure by AF</span>\\', \\'\\', \\'<span style=\"font-size:16pt\">17.3.0</span>\\', \\'\\', \\'<span style=\"font-size:16pt\">2022-06</span>\\', \\'\\', \\'<span style=\"font-size:16pt\">SA#96</span>\\', \\'\\', \\'<span style=\"font-size:16pt\">SP-220398</span>\\', \\'\\', \\'<span style=\"font-size:16pt\">0054</span>\\', \\'\\', \\'<span style=\"font-size:16pt\">1</span>\\', \\'\\', \\'<span style=\"font-size:16pt\">F</span>\\', \\'\\', \\'<span style=\"font-size:16pt\">Correction of EAS Deployment Information Management procedures and services</span>\\', \\'\\', \\'<span style=\"font-size:16pt\">17.3.0</span>\\', \\'\\', \\'<span style=\"font-size:16pt\">2022-06</span>\\', \\'\\', \\'<span style=\"font-size:16pt\">SA#96</span>\\', \\'\\', \\'<span style=\"font-size:16pt\">SP-220398</span>\\', \\'\\', \\'<span style=\"font-size:16pt\">0056</span>\\', \\'\\', \\'<span style=\"font-size:16pt\">1</span>\\', \\'\\', \\'<span style=\"font-size:16pt\">F</span>\\', \\'\\', \\'<span style=\"font-size:16pt\">Parameter supplement of EDI</span>\\', \\'\\', \\'<span style=\"font-size:16pt\">17.3.0</span>\\', \\'\\', \\'<span style=\"font-size:16pt\">2022-06</span>\\', \\'\\', \\'<span style=\"font-size:16pt\">SA#96</span>\\', \\'\\', \\'<span style=\"font-size:16pt\">SP-220398</span>\\', \\'\\', \\'<span style=\"font-size:16pt\">0061</span>\\', \\'\\', \\'<span style=\"font-size:16pt\">1</span>\\', \\'\\', \\'<span style=\"font-size:16pt\">F</span>\\', \\'\\', \\'<span style=\"font-size:16pt\">Alignment of ECS Address Configuration Information to SA6\\\\\\'s definition</span>\\', \\'\\', \\'<span style=\"font-size:16pt\">17.3.0</span>\\', \\'\\', \\'<span style=\"font-size:16pt\">2022-09</span>\\', \\'\\', \\'<span style=\"font-size:16pt\">SA#97E</span>\\', \\'\\', \\'<span style=\"font-size:16pt\">SP-220777</span>\\', \\'\\', \\'<span style=\"font-size:16pt\">0062</span>\\', \\'\\', \\'<span style=\"font-size:16pt\">1</span>\\', \\'\\', \\'<span style=\"font-size:16pt\">F</span>\\', \\'\\', \\'<span style=\"font-size:16pt\">EDNS Client Subnet option correction</span>\\', \\'\\', \\'<span style=\"font-size:16pt\">17.4.0</span>\\', \\'\\', \\'<span style=\"font-size:16pt\">2022-12</span>\\', \\'\\', \\'<span style=\"font-size:16pt\">SA#98E</span>\\', \\'\\', \\'<span style=\"font-size:16pt\">SP-221069</span>\\', \\'\\', \\'<span style=\"font-size:16pt\">0063</span>\\', \\'\\', \\'<span style=\"font-size:16pt\">-</span>\\', \\'\\', \\'<span style=\"font-size:16pt\">F</span>\\', \\'\\', \\'<span style=\"font-size:16pt\">Clarifications for local event notification control</span>\\', \\'\\', \\'<span style=\"font-size:16pt\">17.5.0</span>\\', \\'\\', \\'<span style=\"font-size:16pt\">2022-12</span>\\', \\'\\', \\'<span style=\"font-size:16pt\">SA#98E</span>\\', \\'\\', \\'<span style=\"font-size:16pt\">SP-221086</span>\\', \\'\\', \\'<span style=\"font-size:16pt\">0070</span>\\', \\'\\', \\'<span style=\"font-size:16pt\">2</span>\\', \\'\\', \\'<span style=\"font-size:16pt\">B</span>\\', \\'\\', \\'<span style=\"font-size:16pt\">Support of influencing UPF and EAS (re)location for collections of UEs</span>\\', \\'\\', \\'<span style=\"font-size:16pt\"><b>18.0.0</b></span>\\', \\'\\', \\'<span style=\"font-size:16pt\">2022-12</span>\\', \\'\\', \\'<span style=\"font-size:16pt\">SA#98E</span>\\', \\'\\', \\'<span style=\"font-size:16pt\">SP-221086</span>\\', \\'\\', \\'<span style=\"font-size:16pt\">0075</span>\\', \\'\\', \\'<span style=\"font-size:16pt\">2</span>\\', \\'\\', \\'<span style=\"font-size:16pt\">B</span>\\', \\'\\', \\'<span style=\"font-size:16pt\">KI#4 common EAS enforcement for set of UEs</span>\\', \\'\\', \\'<span style=\"font-size:16pt\">18.0.0</span>\\', \\'\\', \\'<span style=\"font-size:16pt\">2022-12</span>\\', \\'\\', \\'<span style=\"font-size:16pt\">SA#98E</span>\\', \\'\\', \\'<span style=\"font-size:16pt\">SP-221086</span>\\', \\'\\', \\'<span style=\"font-size:16pt\">0079</span>\\', \\'\\', \\'<span style=\"font-size:16pt\">3</span>\\', \\'\\', \\'<span style=\"font-size:16pt\">B</span>\\', \\'\\', \\'<span style=\"font-size:16pt\">Procedure for PDU Session supporting HR-SBO in VPLMN</span>\\', \\'\\', \\'<span style=\"font-size:16pt\">18.0.0</span>\\', \\'\\', \\'<span style=\"font-size:16pt\">2022-12</span>\\', \\'\\', \\'<span style=\"font-size:16pt\">SA#98E</span>\\', \\'\\', \\'<span style=\"font-size:16pt\">SP-221086</span>\\', \\'\\', \\'<span style=\"font-size:16pt\">0082</span>\\', \\'\\', \\'<span style=\"font-size:16pt\">3</span>\\', \\'\\', \\'<span style=\"font-size:16pt\">B</span>\\', \\'\\', \\'<span style=\"font-size:16pt\">Influencing UPF and EAS (re)location for collections of UEs </span>\\', \\'\\', \\'<span style=\"font-size:16pt\">18.0.0</span>\\', \\'\\', \\'<span style=\"font-size:16pt\">2023-03</span>\\', \\'\\', \\'<span style=\"font-size:16pt\">SA#99</span>\\', \\'\\', \\'<span style=\"font-size:16pt\">SP-230059</span>\\', \\'\\', \\'<span style=\"font-size:16pt\">0073</span>\\', \\'\\', \\'<span style=\"font-size:16pt\">7</span>\\', \\'\\', \\'<span style=\"font-size:16pt\">B</span>\\', \\'\\', \\'<span style=\"font-size:16pt\">EAS Re-discovery Procedure with EASDF in HR roaming scenario</span>\\', \\'\\', \\'<span style=\"font-size:16pt\">18.1.0</span>\\', \\'\\', \\'<span style=\"font-size:16pt\">2023-03</span>\\', \\'\\', \\'<span style=\"font-size:16pt\">SA#99</span>\\', \\'\\', \\'<span style=\"font-size:16pt\">SP-230059</span>\\', \\'\\', \\'<span style=\"font-size:16pt\">0083</span>\\', \\'\\', \\'<span style=\"font-size:16pt\">4</span>\\', \\'\\', \\'<span style=\"font-size:16pt\">B</span>\\', \\'\\', \\'<span style=\"font-size:16pt\">Edge Relocation within the same hosting PLMN\\\\\\'s EHEs </span>\\', \\'\\', \\'<span style=\"font-size:16pt\">18.1.0</span>\\', \\'\\', \\'<span style=\"font-size:16pt\">2023-03</span>\\', \\'\\', \\'<span style=\"font-size:16pt\">SA#99</span>\\', \\'\\', \\'<span style=\"font-size:16pt\">SP-230059</span>\\', \\'\\', \\'<span style=\"font-size:16pt\">0084</span>\\', \\'\\', \\'<span style=\"font-size:16pt\">13</span>\\', \\'\\', \\'<span style=\"font-size:16pt\">B</span>\\', \\'\\', \\'<span style=\"font-size:16pt\">Home Routed-Session Breakout (HR-SBO) support</span>\\', \\'\\', \\'<span style=\"font-size:16pt\">18.1.0</span>\\', \\'\\', \\'<span style=\"font-size:16pt\">2023-03</span>\\', \\'\\', \\'<span style=\"font-size:16pt\">SA#99</span>\\', \\'\\', \\'<span style=\"font-size:16pt\">SP-230059</span>\\', \\'\\', \\'<span style=\"font-size:16pt\">0087</span>\\', \\'\\', \\'<span style=\"font-size:16pt\">4</span>\\', \\'\\', \\'<span style=\"font-size:16pt\">B</span>\\', \\'\\', \\'<span style=\"font-size:16pt\">KI#4: AF traffic influence for common EAS, DNAI selection</span>\\', \\'\\', \\'<span style=\"font-size:16pt\">18.1.0</span>\\', \\'\\', \\'<span style=\"font-size:16pt\">2023-03</span>\\', \\'\\', \\'<span style=\"font-size:16pt\">SA#99</span>\\', \\'\\', \\'<span style=\"font-size:16pt\">SP-230059</span>\\', \\'\\', \\'<span style=\"font-size:16pt\">0088</span>\\', \\'\\', \\'<span style=\"font-size:16pt\">4</span>\\', \\'\\', \\'<span style=\"font-size:16pt\">B</span>\\', \\'\\', \\'<span style=\"font-size:16pt\">The EAS discovery procedure with V-EASDF using IP replacement mechanism for supporting HR-SBO</span>\\', \\'\\', \\'<span style=\"font-size:16pt\">18.1.0</span>\\', \\'\\', \\'<span style=\"font-size:16pt\">2023-03</span>\\', \\'\\', \\'<span style=\"font-size:16pt\">SA#99</span>\\', \\'\\', \\'<span style=\"font-size:16pt\">SP-230059</span>\\', \\'\\', \\'<span style=\"font-size:16pt\">0089</span>\\', \\'\\', \\'<span style=\"font-size:16pt\">4</span>\\', \\'\\', \\'<span style=\"font-size:16pt\">B</span>\\', \\'\\', \\'<span style=\"font-size:16pt\">Handling AF traffic influence for HR-SBO PDU Sessions</span>\\', \\'\\', \\'<span style=\"font-size:16pt\">18.1.0</span>\\', \\'\\', \\'<span style=\"font-size:16pt\">2023-03</span>\\', \\'\\', \\'<span style=\"font-size:16pt\">SA#99</span>\\', \\'\\', \\'<span style=\"font-size:16pt\">SP-230059</span>\\', \\'\\', \\'<span style=\"font-size:16pt\">0092</span>\\', \\'\\', \\'<span style=\"font-size:16pt\">9</span>\\', \\'\\', \\'<span style=\"font-size:16pt\">B</span>\\', \\'\\', \\'<span style=\"font-size:16pt\">DNAI mapping based on conclusions in TR 23.700-48</span>\\', \\'\\', \\'<span style=\"font-size:16pt\">18.1.0</span>\\', \\'\\', \\'<span style=\"font-size:16pt\">2023-03</span>\\', \\'\\', \\'<span style=\"font-size:16pt\">SA#99</span>\\', \\'\\', \\'<span style=\"font-size:16pt\">SP-230059</span>\\', \\'\\', \\'<span style=\"font-size:16pt\">0093</span>\\', \\'\\', \\'<span style=\"font-size:16pt\">5</span>\\', \\'\\', \\'<span style=\"font-size:16pt\">B</span>\\', \\'\\', \\'<span style=\"font-size:16pt\">KI#4 23.548 common EAS enforcement for set of UEs</span>\\', \\'\\', \\'<span style=\"font-size:16pt\">18.1.0</span>\\', \\'\\', \\'<span style=\"font-size:16pt\">2023-03</span>\\', \\'\\', \\'<span style=\"font-size:16pt\">SA#99</span>\\', \\'\\', \\'<span style=\"font-size:16pt\">SP-230059</span>\\', \\'\\', \\'<span style=\"font-size:16pt\">0094</span>\\', \\'\\', \\'<span style=\"font-size:16pt\">1</span>\\', \\'\\', \\'<span style=\"font-size:16pt\">B</span>\\', \\'\\', \\'<span style=\"font-size:16pt\">KI#5 EDI extension for EAS discovery for GSMA OPG scenario</span>\\', \\'\\', \\'<span style=\"font-size:16pt\">18.1.0</span>\\', \\'\\', \\'<span style=\"font-size:16pt\">2023-03</span>\\', \\'\\', \\'<span style=\"font-size:16pt\">SA#99</span>\\', \\'\\', \\'<span style=\"font-size:16pt\">SP-230059</span>\\', \\'\\', \\'<span style=\"font-size:16pt\">0095</span>\\', \\'\\', \\'<span style=\"font-size:16pt\">1</span>\\', \\'\\', \\'<span style=\"font-size:16pt\">B</span>\\', \\'\\', \\'<span style=\"font-size:16pt\">Common DNAI relocation</span>\\', \\'\\', \\'<span style=\"font-size:16pt\">18.1.0</span>\\', \\'\\', \\'<span style=\"font-size:16pt\">2023-03</span>\\', \\'\\', \\'<span style=\"font-size:16pt\">SA#99</span>\\', \\'\\', \\'<span style=\"font-size:16pt\">SP-230059</span>\\', \\'\\', \\'<span style=\"font-size:16pt\">0096</span>\\', \\'\\', \\'<span style=\"font-size:16pt\">1</span>\\', \\'\\', \\'<span style=\"font-size:16pt\">B </span>\\', \\'\\', \\'<span style=\"font-size:16pt\">ECS Address Configuration Information delivery in roaming</span>\\', \\'\\', \\'<span style=\"font-size:16pt\">18.1.0</span>\\', \\'\\', \\'<span style=\"font-size:16pt\">2023-03</span>\\', \\'\\', \\'<span style=\"font-size:16pt\">SA#99</span>\\', \\'\\', \\'<span style=\"font-size:16pt\">SP-230059</span>\\', \\'\\', \\'<span style=\"font-size:16pt\">0098</span>\\', \\'\\', \\'<span style=\"font-size:16pt\">1</span>\\', \\'\\', \\'<span style=\"font-size:16pt\">B </span>\\', \\'\\', \\'<span style=\"font-size:16pt\">Information sharing between PLMN to support GSMA OPG</span>\\', \\'\\', \\'<span style=\"font-size:16pt\">18.1.0</span>\\', \\'\\', \\'<span style=\"font-size:16pt\">2023-03</span>\\', \\'\\', \\'<span style=\"font-size:16pt\">SA#99</span>\\', \\'\\', \\'<span style=\"font-size:16pt\">SP-230059</span>\\', \\'\\', \\'<span style=\"font-size:16pt\">0101</span>\\', \\'\\', \\'<span style=\"font-size:16pt\">1</span>\\', \\'\\', \\'<span style=\"font-size:16pt\">B</span>\\', \\'\\', \\'<span style=\"font-size:16pt\">Select common DNAI/EAS for a set of UEs </span>\\', \\'\\', \\'<span style=\"font-size:16pt\">18.1.0</span>\\', \\'\\', \\'<span style=\"font-size:16pt\">2023-03</span>\\', \\'\\', \\'<span style=\"font-size:16pt\">SA#99</span>\\', \\'\\', \\'<span style=\"font-size:16pt\">SP-230059</span>\\', \\'\\', \\'<span style=\"font-size:16pt\">0105</span>\\', \\'\\', \\'<span style=\"font-size:16pt\">1</span>\\', \\'\\', \\'<span style=\"font-size:16pt\">B</span>\\', \\'\\', \\'<span style=\"font-size:16pt\">EASDF functional description update</span>\\', \\'\\', \\'<span style=\"font-size:16pt\">18.1.0</span>\\', \\'\\', \\'<span style=\"font-size:16pt\">2023-03</span>\\', \\'\\', \\'<span style=\"font-size:16pt\">SA#99</span>\\', \\'\\', \\'<span style=\"font-size:16pt\">SP-230059</span>\\', \\'\\', \\'<span style=\"font-size:16pt\">0109</span>\\', \\'\\', \\'<span style=\"font-size:16pt\">1</span>\\', \\'\\', \\'<span style=\"font-size:16pt\">B</span>\\', \\'\\', \\'<span style=\"font-size:16pt\">UL CL/BP insertion for common EAS Discovery</span>\\', \\'\\', \\'<span style=\"font-size:16pt\">18.1.0</span>\\', \\'\\', \\'<span style=\"font-size:16pt\">2023-04</span>\\', \\'\\', \\'<span style=\"font-size:16pt\">SA#99</span>\\', \\'\\', \\'<span style=\"font-size:16pt\">-</span>\\', \\'\\', \\'<span style=\"font-size:16pt\">-</span>\\', \\'\\', \\'<span style=\"font-size:16pt\">-</span>\\', \\'\\', \\'<span style=\"font-size:16pt\">-</span>\\', \\'\\', \\'<span style=\"font-size:16pt\">MCC correction to implementation of CR0095R1</span>\\', \\'\\', \\'<span style=\"font-size:16pt\">18.1.1</span>\\', \\'\\', \\'<span style=\"font-size:16pt\">2023-06</span>\\', \\'\\', \\'<span style=\"font-size:16pt\">SA#100</span>\\', \\'\\', \\'<span style=\"font-size:16pt\">SP-230462</span>\\', \\'\\', \\'<span style=\"font-size:16pt\">0112</span>\\', \\'\\', \\'<span style=\"font-size:16pt\">4</span>\\', \\'\\', \\'<span style=\"font-size:16pt\">B</span>\\', \\'\\', \\'<span style=\"font-size:16pt\">Home Routed-Session Breakout (HR-SBO) - offload policy structure</span>\\', \\'\\', \\'<span style=\"font-size:16pt\">18.2.0</span>\\', \\'\\', \\'<span style=\"font-size:16pt\">2023-06</span>\\', \\'\\', \\'<span style=\"font-size:16pt\">SA#100</span>\\', \\'\\', \\'<span style=\"font-size:16pt\">SP-230462</span>\\', \\'\\', \\'<span style=\"font-size:16pt\">0120</span>\\', \\'\\', \\'<span style=\"font-size:16pt\">7</span>\\', \\'\\', \\'<span style=\"font-size:16pt\">B</span>\\', \\'\\', \\'<span style=\"font-size:16pt\">KI#1 EAS Discovery: Resolve ENs</span>\\', \\'\\', \\'<span style=\"font-size:16pt\">18.2.0</span>\\', \\'\\', \\'<span style=\"font-size:16pt\">2023-06</span>\\', \\'\\', \\'<span style=\"font-size:16pt\">SA#100</span>\\', \\'\\', \\'<span style=\"font-size:16pt\">SP-230462</span>\\', \\'\\', \\'<span style=\"font-size:16pt\">0122</span>\\', \\'\\', \\'<span style=\"font-size:16pt\">2</span>\\', \\'\\', \\'<span style=\"font-size:16pt\">B</span>\\', \\'\\', \\'<span style=\"font-size:16pt\">KI#1 EACI provisioning from VPLMN</span>\\', \\'\\', \\'<span style=\"font-size:16pt\">18.2.0</span>\\', \\'\\', \\'<span style=\"font-size:16pt\">2023-06</span>\\', \\'\\', \\'<span style=\"font-size:16pt\">SA#100</span>\\', \\'\\', \\'<span style=\"font-size:16pt\">SP-230462</span>\\', \\'\\', \\'<span style=\"font-size:16pt\">0123</span>\\', \\'\\', \\'<span style=\"font-size:16pt\">3</span>\\', \\'\\', \\'<span style=\"font-size:16pt\">B</span>\\', \\'\\', \\'<span style=\"font-size:16pt\">KI#1 EDI provision for HR-SBO</span>\\', \\'\\', \\'<span style=\"font-size:16pt\">18.2.0</span>\\', \\'\\', \\'<span style=\"font-size:16pt\">2023-06</span>\\', \\'\\', \\'<span style=\"font-size:16pt\">SA#100</span>\\', \\'\\', \\'<span style=\"font-size:16pt\">SP-230462</span>\\', \\'\\', \\'<span style=\"font-size:16pt\">0124</span>\\', \\'\\', \\'<span style=\"font-size:16pt\">1</span>\\', \\'\\', \\'<span style=\"fo',\n",
       " 0.2561553751734656]"
      ]
     },
     "execution_count": 20,
     "metadata": {},
     "output_type": "execute_result"
    }
   ],
   "source": [
    "lstRelevantSections[0]"
   ]
  },
  {
   "cell_type": "code",
   "execution_count": null,
   "metadata": {},
   "outputs": [
    {
     "name": "stderr",
     "output_type": "stream",
     "text": [
      "100%|██████████| 7/7 [00:00<00:00, 49.08it/s]\n"
     ]
    }
   ],
   "source": [
    "# model = SentenceTransformer(\"sentence-t5-large\")\n",
    "# model = SentenceTransformer(\"sentence-transformers/gtr-t5-xxl\")\n",
    "\n",
    "# list with all embeddings for the sections\n",
    "lstRelevantEmbeddings = []\n",
    "iCounter = 0\n",
    "\n",
    "for oneLine in tqdm(lstRelevantSections):\n",
    "\n",
    "    # the content of the section starts on the third position of the list\n",
    "    sentences = oneLine[3]\n",
    "\n",
    "    # Sentences are encoded by calling model.encode()\n",
    "    embeddings = model.encode(sentences)\n",
    "    \n",
    "    # Print the average embeddings for all the sentences \n",
    "    # in this section\n",
    "    # avg_embedding = np.mean(embeddings, axis=0)\n",
    "    \n",
    "    lstOneLine = [oneLine[0], oneLine[1], 2, str(sentences).replace(\"$\", \"_\").replace(\"\\n\", \"_\"), embeddings]\n",
    "\n",
    "    lstRelevantEmbeddings.append(lstOneLine)\n",
    "\n",
    "    iCounter += 1"
   ]
  },
  {
   "cell_type": "code",
   "execution_count": null,
   "metadata": {},
   "outputs": [],
   "source": [
    "# now, read the requirements from the requirements database, file 20_requirements.xlsx\n",
    "dfTRequirements = pd.read_excel(\"existing_requirements.xlsx\")\n",
    "\n",
    "# convert to list\n",
    "lstTRequirements = dfTRequirements.values.tolist()"
   ]
  },
  {
   "cell_type": "code",
   "execution_count": null,
   "metadata": {},
   "outputs": [
    {
     "data": {
      "text/plain": [
       "['Req_1',\n",
       " 'Regarding support for infrastructure protection of electrical transmission, the 5G system shall support an end-to-end latency of less than 5 ms or 10 ms, as requested by the UE initiating the communication. ',\n",
       " 'NOTE 1: This requirement relates to TS 22.104, chapter 5.6C Support for infrastructure protection of electrical transmission.\\nNOTE 2: Whether the end-to-end latency is 5 ms or 10 ms depends on the applied voltage level. \\nNOTE 3: The end-to-end latency is between two UEs, including two wireless links.',\n",
       " 'Payload',\n",
       " nan]"
      ]
     },
     "execution_count": 23,
     "metadata": {},
     "output_type": "execute_result"
    }
   ],
   "source": [
    "lstTRequirements[0]"
   ]
  },
  {
   "cell_type": "code",
   "execution_count": null,
   "metadata": {},
   "outputs": [
    {
     "name": "stderr",
     "output_type": "stream",
     "text": [
      "100%|██████████| 20/20 [00:00<00:00, 105.42it/s]\n"
     ]
    }
   ],
   "source": [
    "# make the embeddings\n",
    "# model = SentenceTransformer(\"sentence-t5-large\")\n",
    "\n",
    "# list with all embeddings for the sections\n",
    "lstTRequirementsEmbeddings = []\n",
    "iCounter = 0\n",
    "\n",
    "for oneLine in tqdm(lstTRequirements):\n",
    "\n",
    "    # the content of the section starts on the requirement text\n",
    "    sentences = oneLine[1]\n",
    "\n",
    "    # Sentences are encoded by calling model.encode()\n",
    "    embeddings = model.encode(sentences)\n",
    "    \n",
    "    # Print the average embeddings for all the sentences \n",
    "    # in this section\n",
    "    #avg_embedding = np.mean(embeddings, axis=0)\n",
    "    \n",
    "    lstOneLine = [oneLine[0], oneLine[1], 2, str(sentences).replace(\"$\", \"_\").replace(\"\\n\", \"_\"), embeddings]\n",
    "\n",
    "    lstTRequirementsEmbeddings.append(lstOneLine)\n",
    "\n",
    "    iCounter += 1"
   ]
  },
  {
   "cell_type": "code",
   "execution_count": null,
   "metadata": {},
   "outputs": [],
   "source": [
    "# average the embeddings for all the lstTRequirementsEmbeddings\n",
    "lstTRequirementsEmbeddingsNP = np.array([x[4] for x in lstTRequirementsEmbeddings])\n",
    "\n",
    "tRequirementsAvgEmbeddings = np.mean(lstTRequirementsEmbeddingsNP, axis=0)"
   ]
  },
  {
   "cell_type": "code",
   "execution_count": null,
   "metadata": {},
   "outputs": [
    {
     "name": "stderr",
     "output_type": "stream",
     "text": [
      "100%|██████████| 7/7 [00:00<00:00, 29837.53it/s]\n"
     ]
    }
   ],
   "source": [
    "# now, calculate the average distance of all the relevant sections to the average requirements\n",
    "lstDist = []\n",
    "\n",
    "for oneLine in tqdm(lstRelevantEmbeddings):\n",
    "    # euclidean distance between the two embeddings\n",
    "    dist = distance.cosine(oneLine[4], tRequirementsAvgEmbeddings)\n",
    "    lstDist.append([oneLine[0], oneLine[1], dist, oneLine[3]])\n",
    "\n",
    "# now we sort the list by the distance\n",
    "lstDist.sort(key=lambda x: x[3])\n",
    "    "
   ]
  },
  {
   "cell_type": "code",
   "execution_count": null,
   "metadata": {},
   "outputs": [
    {
     "data": {
      "image/png": "[encoded data removed]",
      "text/plain": [
       "<Figure size 1600x1000 with 1 Axes>"
      ]
     },
     "metadata": {},
     "output_type": "display_data"
    }
   ],
   "source": [
    "# create a bar plot for the distances lstDist[2]\n",
    "plt.figure(figsize=(16,10))\n",
    "\n",
    "# Create a bar plot\n",
    "plt.bar([x[0] for x in lstDist], [x[2] for x in lstDist])\n",
    "\n",
    "# Add labels to each dot\n",
    "for i, label in enumerate([x[1] for x in lstDist]):\n",
    "    plt.text(i, lstDist[i][2], label)\n",
    "\n",
    "# add horizontal lines for the thresholds\n",
    "plt.axhline(y=thresholdPartial, color='orange', linestyle='-')\n",
    "plt.axhline(y=thresholdCovered, color='red', linestyle='-')\n",
    "\n",
    "plt.show()"
   ]
  },
  {
   "cell_type": "code",
   "execution_count": null,
   "metadata": {},
   "outputs": [
    {
     "data": {
      "image/png": "[encoded data removed]",
      "text/plain": [
       "<Figure size 1600x1000 with 1 Axes>"
      ]
     },
     "metadata": {},
     "output_type": "display_data"
    }
   ],
   "source": [
    "# Visualize the results using the scatter plot, where\n",
    "# the x-axis is the distance to the average requirement\n",
    "# the y-axis is always 1\n",
    "# the color is red for the requirements\n",
    "\n",
    "# Create a color map based on x[2]\n",
    "color_map = {0: 'blue', 1: 'green', 2: 'red'}\n",
    "colors = [color_map[0] for x in lstDist]\n",
    "\n",
    "# we plot the t-SNE results\n",
    "plt.figure(figsize=(16,10))\n",
    "\n",
    "random.seed(42)\n",
    "\n",
    "plt.scatter([x[2] for x in lstDist], [random.random() * 2 for x in lstDist], c=colors, s=100, alpha=0.5)\n",
    "\n",
    "# Add labels to each dot\n",
    "#for i, label in enumerate([x[3] for x in lstDist]):\n",
    "#    plt.text([x[2] for x in lstDist][i], 1, label[:20]+'...', rotation='vertical')\n",
    "\n",
    "# Add vertical lines at 0.33 and 1.0\n",
    "plt.axvline(x=thresholdPartial, color='orange', linestyle='--')\n",
    "plt.axvline(x=thresholdCovered, color='red', linestyle='--')\n",
    "\n",
    "# Set the limits of the x-axis\n",
    "plt.xlim(0, 2)\n",
    "plt.ylim(0, 2)\n",
    "\n",
    "plt.show()"
   ]
  },
  {
   "cell_type": "code",
   "execution_count": null,
   "metadata": {},
   "outputs": [],
   "source": [
    "# save lstDst\n",
    "dfDistances = pd.DataFrame(lstDist, columns=[\"Section\", \"Document\", \"Distance\", \"Content\"])\n",
    "\n",
    "dfDistances.to_excel(\"./temp_sections_for_generation.xlsx\", index=False)"
   ]
  },
  {
   "cell_type": "markdown",
   "metadata": {},
   "source": [
    "## Part 4: create requirements based on each of these sections\n",
    "\n",
    "In the last step, we create new requirements based on the sections identified in the previous steps."
   ]
  },
  {
   "cell_type": "code",
   "execution_count": null,
   "metadata": {},
   "outputs": [],
   "source": [
    "# read the lstDst from the Excel file\n",
    "dfDistances = pd.read_excel(\"./temp_sections_for_generation.xlsx\")\n",
    "\n",
    "lstDist = dfDistances.values.tolist()"
   ]
  },
  {
   "cell_type": "code",
   "execution_count": null,
   "metadata": {},
   "outputs": [
    {
     "name": "stderr",
     "output_type": "stream",
     "text": [
      "`flash-attention` package not found, consider installing for better performance: No module named 'flash_attn'.\n",
      "Current `flash-attenton` does not support `window_size`. Either upgrade or use `attn_implementation='eager'`.\n"
     ]
    },
    {
     "data": {
      "application/vnd.jupyter.widget-view+json": {
       "model_id": "95be956b4f17494d81dc9681c8ba1242",
       "version_major": 2,
       "version_minor": 0
      },
      "text/plain": [
       "Loading checkpoint shards:   0%|          | 0/2 [00:00<?, ?it/s]"
      ]
     },
     "metadata": {},
     "output_type": "display_data"
    },
    {
     "name": "stderr",
     "output_type": "stream",
     "text": [
      "Special tokens have been added in the vocabulary, make sure the associated word embeddings are fine-tuned or trained.\n"
     ]
    }
   ],
   "source": [
    "torch.random.manual_seed(0)\n",
    "\n",
    "modelInstr = AutoModelForCausalLM.from_pretrained(\n",
    "    modelP, \n",
    "    device_map=\"cuda\", \n",
    "    torch_dtype=\"auto\", \n",
    "    trust_remote_code=True, \n",
    "    attn_implementation='eager',\n",
    ")\n",
    "tokenizerInstr = AutoTokenizer.from_pretrained(modelP)"
   ]
  },
  {
   "cell_type": "code",
   "execution_count": null,
   "metadata": {},
   "outputs": [],
   "source": [
    "def createRequirement(content, type, model, tokenizer):\n",
    "    content1 = content.split(\",\")\n",
    "    content1 = [x for x in content1[1:] if x not in ['', \" ''\", \" '']\"]]\n",
    "    content_str = \" \".join(content1)\n",
    "\n",
    "    # this is about signalling, payload, c/c. \n",
    "    # typeStr = type.split(\"_\")[1]\n",
    "    \n",
    "    # strContent = f\"Based on this : {content_str}. Write the requirement in the following format 'The {typeStr} of the system shall ' \"\n",
    "    strContent = f\"Based on this : {content_str}. Write the requirement in the following format 'The system shall ' \"\n",
    "    \n",
    "    messages = [\n",
    "        {\"role\": \"user\", \"content\": strContent},\n",
    "    ]\n",
    "\n",
    "    pipe = pipeline(\n",
    "        \"text-generation\",\n",
    "        model=model,\n",
    "        tokenizer=tokenizer,\n",
    "    )\n",
    "\n",
    "    generation_args = {\n",
    "        \"max_new_tokens\": 500,\n",
    "        \"return_full_text\": False,\n",
    "        \"temperature\": 0.0,\n",
    "        \"do_sample\": False,\n",
    "    }\n",
    "\n",
    "    output = pipe(messages, **generation_args)\n",
    "    \n",
    "    return output[0]['generated_text']"
   ]
  },
  {
   "cell_type": "code",
   "execution_count": null,
   "metadata": {},
   "outputs": [],
   "source": [
    "def createRequirement2(content, section, document, model, tokenizer):\n",
    "    content1 = content.split(\",\")\n",
    "    content1 = [x for x in content1[1:] if x not in ['', \" ''\", \" '']\"]]\n",
    "    content_str = \" \".join(content1)\n",
    "\n",
    "    # check if the text contains the word Figure\n",
    "    # if it does, then we add a footnote before to warn the user\n",
    "    if \"Figure\" in content_str:\n",
    "        #strContent = f\"Based on this : {content_str}. Write the requirement in the following format 'The system shall '. Start with '* This part of the standard contains a figure, the generated requirement can be inaccurate, please consult the original text for details.' \"\n",
    "        strContent = f\"Based on this : {content_str}, write the requirement about {section} from {document}. Add this text at the beginning: '* This part of the standard contains a figure, the generated requirement can be inaccurate, please consult the original text for details.' \"\n",
    "    # the same for tables, at least the ones that we can identify\n",
    "    elif \"Table \" in content_str[:10]:\n",
    "        #strContent = f\"Summarize this table. {content_str}. Based on this summary, write the requirement in the following format 'The system shall '. Start with '* This part of the standard contains a table, the generated requirement can be inaccurate, please consult the original text for details.' \"\n",
    "        strContent = f\"Summarize this table. {content_str}. Based on this summary, write a requirement about {section} from {document}. Add this text at the beginning '* This part of the standard contains a table, the generated requirement can be inaccurate, please consult the original text for details.' \"\n",
    "    \n",
    "    # and for the empty text, e.g., when the word latency is only in the title\n",
    "    # we do not generate anything and warn the user\n",
    "    elif len(content_str) < 2:\n",
    "        return \"This section is empty. The word latency is probably only in a section title\"\n",
    "    # otherwise, we generate the requirement\n",
    "    else: \n",
    "        #strContent = f\"Based on this : {content_str}. Write the requirement in the following format 'The system shall ' \"\n",
    "        strContent = f\"Write a requirement about {section} from {document} based on this: {content_str}. \"\n",
    "    \n",
    "    messages = [\n",
    "        {\"role\": \"user\", \"content\": strContent},\n",
    "    ]\n",
    "\n",
    "    pipe = pipeline(\n",
    "        \"text-generation\",\n",
    "        model=model,\n",
    "        tokenizer=tokenizer,\n",
    "    )\n",
    "\n",
    "    generation_args = {\n",
    "        \"max_new_tokens\": 500,\n",
    "        \"return_full_text\": False,\n",
    "        \"temperature\": 0.0,\n",
    "    }\n",
    "\n",
    "    output = pipe(messages, **generation_args)\n",
    "    \n",
    "    return output[0]['generated_text']"
   ]
  },
  {
   "cell_type": "code",
   "execution_count": null,
   "metadata": {},
   "outputs": [
    {
     "name": "stderr",
     "output_type": "stream",
     "text": [
      "100%|██████████| 7/7 [04:32<00:00, 38.88s/it] \n"
     ]
    }
   ],
   "source": [
    "lstGenerated = []\n",
    "iCounter = 0\n",
    "\n",
    "# we generate new requirements for the partially covered ones\n",
    "if len(lstDist) > 0:\n",
    "    for oneLine in tqdm(lstDist):\n",
    "        if (len(oneLine[3]) < 100000):\n",
    "            strRequirement = createRequirement2(oneLine[3], oneLine[0], oneLine[1], modelInstr, tokenizerInstr)\n",
    "            lstGenerated.append([oneLine[0], oneLine[1], oneLine[2], oneLine[3], strRequirement])"
   ]
  },
  {
   "cell_type": "code",
   "execution_count": null,
   "metadata": {},
   "outputs": [],
   "source": [
    "dfOutput = pd.DataFrame(lstGenerated, columns=[\"Section\", \"Document\",  \"Distance\", \"Content\", \"Generated requirement\"])\n",
    "dfOutput.to_excel(generatedFile, index=False)\n",
    "\n",
    "# and generate html\n",
    "dfOutput.to_html(\"generated.html\")"
   ]
  },
  {
   "cell_type": "code",
   "execution_count": null,
   "metadata": {},
   "outputs": [
    {
     "data": {
      "text/plain": [
       "7"
      ]
     },
     "execution_count": 45,
     "metadata": {},
     "output_type": "execute_result"
    }
   ],
   "source": [
    "len(lstGenerated)"
   ]
  }
 ],
 "metadata": {
  "kernelspec": {
   "display_name": "standards",
   "language": "python",
   "name": "python3"
  },
  "language_info": {
   "codemirror_mode": {
    "name": "ipython",
    "version": 3
   },
   "file_extension": ".py",
   "mimetype": "text/x-python",
   "name": "python",
   "nbconvert_exporter": "python",
   "pygments_lexer": "ipython3",
   "version": "3.10.12"
  }
 },
 "nbformat": 4,
 "nbformat_minor": 2
}
