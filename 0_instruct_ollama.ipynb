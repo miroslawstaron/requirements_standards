{
 "cells": [
  {
   "cell_type": "markdown",
   "metadata": {},
   "source": [
    "# Test of Ollama framework\n",
    "\n",
    "In this script, we test the ollama framework instead of the raw HF approach. This is a WS option."
   ]
  },
  {
   "cell_type": "code",
   "execution_count": 1,
   "metadata": {},
   "outputs": [
    {
     "name": "stdout",
     "output_type": "stream",
     "text": [
      "{'model': 'llama3.2', 'created_at': '2024-10-11T09:22:54.1584423Z', 'response': \"The sky appears blue because of a phenomenon called Rayleigh scattering, named after the British physicist Lord Rayleigh, who first described it in the late 19th century.\\n\\nHere's what happens:\\n\\n1. When sunlight enters Earth's atmosphere, it encounters tiny molecules of gases such as nitrogen (N2) and oxygen (O2).\\n2. These molecules scatter the light in all directions, but they scatter shorter (blue) wavelengths more than longer (red) wavelengths.\\n3. This is because the smaller molecules are more effective at scattering the shorter blue wavelengths, while the longer red wavelengths pass through the atmosphere with less scattering.\\n4. As a result, our eyes perceive the sky as blue, because we see mostly the scattered blue light.\\n\\nIt's worth noting that the color of the sky can change depending on various factors, such as:\\n\\n* Time of day: During sunrise and sunset, the sky can take on hues of orange, pink, and red due to scattering by atmospheric particles.\\n* Atmospheric conditions: Dust, pollution, and water vapor in the air can scatter light in different ways, altering the color of the sky.\\n* Altitude and location: The color of the sky can vary depending on your location and altitude. For example, the sky can appear more intense blue at higher altitudes.\\n\\nSo, to summarize, the sky appears blue because of the scattering of sunlight by tiny molecules in the atmosphere, with shorter wavelengths (blue light) being scattered more than longer wavelengths (red light).\", 'done': True, 'done_reason': 'stop', 'context': [128006, 9125, 128007, 271, 38766, 1303, 33025, 2696, 25, 6790, 220, 2366, 18, 271, 128009, 128006, 882, 128007, 271, 10445, 374, 279, 13180, 6437, 30, 128009, 128006, 78191, 128007, 271, 791, 13180, 8111, 6437, 1606, 315, 264, 25885, 2663, 13558, 64069, 72916, 11, 7086, 1306, 279, 8013, 83323, 10425, 13558, 64069, 11, 889, 1176, 7633, 433, 304, 279, 3389, 220, 777, 339, 9478, 382, 8586, 596, 1148, 8741, 1473, 16, 13, 3277, 40120, 29933, 9420, 596, 16975, 11, 433, 35006, 13987, 35715, 315, 45612, 1778, 439, 47503, 320, 45, 17, 8, 323, 24463, 320, 46, 17, 4390, 17, 13, 4314, 35715, 45577, 279, 3177, 304, 682, 18445, 11, 719, 814, 45577, 24210, 320, 12481, 8, 93959, 810, 1109, 5129, 320, 1171, 8, 93959, 627, 18, 13, 1115, 374, 1606, 279, 9333, 35715, 527, 810, 7524, 520, 72916, 279, 24210, 6437, 93959, 11, 1418, 279, 5129, 2579, 93959, 1522, 1555, 279, 16975, 449, 2753, 72916, 627, 19, 13, 1666, 264, 1121, 11, 1057, 6548, 45493, 279, 13180, 439, 6437, 11, 1606, 584, 1518, 10213, 279, 38067, 6437, 3177, 382, 2181, 596, 5922, 27401, 430, 279, 1933, 315, 279, 13180, 649, 2349, 11911, 389, 5370, 9547, 11, 1778, 439, 1473, 9, 4212, 315, 1938, 25, 12220, 64919, 323, 44084, 11, 279, 13180, 649, 1935, 389, 82757, 315, 19087, 11, 18718, 11, 323, 2579, 4245, 311, 72916, 555, 45475, 19252, 627, 9, 87597, 4787, 25, 33093, 11, 25793, 11, 323, 3090, 38752, 304, 279, 3805, 649, 45577, 3177, 304, 2204, 5627, 11, 60923, 279, 1933, 315, 279, 13180, 627, 9, 24610, 3993, 323, 3813, 25, 578, 1933, 315, 279, 13180, 649, 13592, 11911, 389, 701, 3813, 323, 36958, 13, 1789, 3187, 11, 279, 13180, 649, 5101, 810, 19428, 6437, 520, 5190, 4902, 21237, 382, 4516, 11, 311, 63179, 11, 279, 13180, 8111, 6437, 1606, 315, 279, 72916, 315, 40120, 555, 13987, 35715, 304, 279, 16975, 11, 449, 24210, 93959, 320, 12481, 3177, 8, 1694, 38067, 810, 1109, 5129, 93959, 320, 1171, 3177, 570], 'total_duration': 3695112700, 'load_duration': 1912685200, 'prompt_eval_count': 31, 'prompt_eval_duration': 59376000, 'eval_count': 301, 'eval_duration': 1720083000}\n"
     ]
    }
   ],
   "source": [
    "import requests\n",
    "import json\n",
    "\n",
    "url = 'http://localhost:5050/api/generate'\n",
    "data = {\n",
    "    \"model\": \"llama3.2\",\n",
    "    \"prompt\": \"Why is the sky blue?\",\n",
    "    \"stream\": False\n",
    "    }\n",
    "headers = {'Content-Type': 'application/json'}\n",
    "response = requests.post(url, data=json.dumps(data), headers=headers)\n",
    "\n",
    "json_data = json.loads(response.text)\n",
    "\n",
    "print(json_data)\n",
    "\n"
   ]
  },
  {
   "cell_type": "code",
   "execution_count": 3,
   "metadata": {},
   "outputs": [
    {
     "name": "stdout",
     "output_type": "stream",
     "text": [
      "The sky appears blue because of a phenomenon called Rayleigh scattering, named after the British physicist Lord Rayleigh, who first described it in the late 19th century.\n",
      "\n",
      "Here's what happens:\n",
      "\n",
      "1. When sunlight enters Earth's atmosphere, it encounters tiny molecules of gases such as nitrogen (N2) and oxygen (O2).\n",
      "2. These molecules scatter the light in all directions, but they scatter shorter (blue) wavelengths more than longer (red) wavelengths.\n",
      "3. This is because the smaller molecules are more effective at scattering the shorter wavelengths due to their smaller size and higher surface area.\n",
      "4. As a result, the blue light is scattered in all directions and reaches our eyes from all parts of the sky.\n",
      "5. The red light, on the other hand, continues to travel in a straight line and reaches our eyes from the direction of the sun.\n",
      "\n",
      "This scattering effect gives the sky its blue color, especially during the daytime when the sun is overhead. At sunrise and sunset, the light has to travel through more of the Earth's atmosphere, which scatters the shorter wavelengths even more, making the sky appear red or orange.\n",
      "\n",
      "It's worth noting that the color of the sky can also be affected by other factors, such as:\n",
      "\n",
      "* Dust and pollution in the air, which can scatter light in different ways and change the apparent color.\n",
      "* Atmospheric conditions like cloud cover, haze, or smoke, which can absorb or scatter light in various ways.\n",
      "* The angle of the sun and our position on Earth, which can affect the amount of direct sunlight that reaches us.\n",
      "\n",
      "However, Rayleigh scattering remains the primary reason why the sky appears blue under most conditions.\n"
     ]
    }
   ],
   "source": [
    "print(json_data['response'])"
   ]
  },
  {
   "cell_type": "markdown",
   "metadata": {},
   "source": []
  },
  {
   "cell_type": "markdown",
   "metadata": {},
   "source": []
  },
  {
   "cell_type": "code",
   "execution_count": 2,
   "metadata": {},
   "outputs": [],
   "source": [
    "content = ['', '--\\tPBSP and PBCP (including Mobile PBCP) should be able to negotiate QoS and cost for content distribution and latency.', '', '--\\tPBSP and PBCP (including Mobile PBCP) should be able to request notification prior to content transmission.', '', '--\\tNotification may be given to BSUs prior to streaming session initiation.', '', '--\\tBSUs may be able to choose categories of content to be notified about, e.g. from an electronic service guide.', '', '--\\tBSUs should be able to access PBS service using third party user interface software.', '', '--\\tStatistical information (e.g number of BSUs, resource usage) should be collected and make available  to PBSP and PBCP.', '', '--\\tIt should be possible that failure of BSU access (e.g. resource shortage or UE incapability) be reported to PBCP.', '', '--\\tHandover within the same radio access technology should be transparent to BSU.', '', '--\\tLatency for content switching should be within an acceptable bound to user perception.', '', '--\\tQoS should be supported.', '', '--\\tWhen macro cell and Home (e)NodeB cell are combined, service continuity between the cells should be supported. ', '']\n",
    "content_str = \" \".join(content)\n",
    "strContent = f\"Write a requirement based on this: {content_str}. \""
   ]
  },
  {
   "cell_type": "code",
   "execution_count": 6,
   "metadata": {},
   "outputs": [
    {
     "ename": "KeyError",
     "evalue": "'response'",
     "output_type": "error",
     "traceback": [
      "\u001b[0;31m---------------------------------------------------------------------------\u001b[0m",
      "\u001b[0;31mKeyError\u001b[0m                                  Traceback (most recent call last)",
      "Cell \u001b[0;32mIn[6], line 12\u001b[0m\n\u001b[1;32m      8\u001b[0m response \u001b[38;5;241m=\u001b[39m requests\u001b[38;5;241m.\u001b[39mpost(url, data\u001b[38;5;241m=\u001b[39mjson\u001b[38;5;241m.\u001b[39mdumps(data), headers\u001b[38;5;241m=\u001b[39mheaders)\n\u001b[1;32m     10\u001b[0m json_data \u001b[38;5;241m=\u001b[39m json\u001b[38;5;241m.\u001b[39mloads(response\u001b[38;5;241m.\u001b[39mtext)\n\u001b[0;32m---> 12\u001b[0m resp \u001b[38;5;241m=\u001b[39m \u001b[43mjson_data\u001b[49m\u001b[43m[\u001b[49m\u001b[38;5;124;43m'\u001b[39;49m\u001b[38;5;124;43mresponse\u001b[39;49m\u001b[38;5;124;43m'\u001b[39;49m\u001b[43m]\u001b[49m\n\u001b[1;32m     14\u001b[0m data\u001b[38;5;241m.\u001b[39mupdate({\u001b[38;5;124m'\u001b[39m\u001b[38;5;124mprompt\u001b[39m\u001b[38;5;124m'\u001b[39m: \u001b[38;5;124mf\u001b[39m\u001b[38;5;124m'\u001b[39m\u001b[38;5;124mwrite a headline for this requirement: \u001b[39m\u001b[38;5;132;01m{\u001b[39;00mresp\u001b[38;5;132;01m}\u001b[39;00m\u001b[38;5;124m'\u001b[39m})\n\u001b[1;32m     16\u001b[0m \u001b[38;5;28;01mfor\u001b[39;00m i \u001b[38;5;129;01min\u001b[39;00m \u001b[38;5;28mrange\u001b[39m(\u001b[38;5;241m300\u001b[39m):\n",
      "\u001b[0;31mKeyError\u001b[0m: 'response'"
     ]
    }
   ],
   "source": [
    "data = {\n",
    "    \"model\": \"llama3.1\",\n",
    "    \"prompt\": strContent,\n",
    "    \"stream\": False\n",
    "    }\n",
    "\n",
    "headers = {'Content-Type': 'application/json'}\n",
    "response = requests.post(url, data=json.dumps(data), headers=headers)\n",
    "\n",
    "json_data = json.loads(response.text)\n",
    "\n",
    "resp = json_data['response']\n",
    "\n",
    "data.update({'prompt': f'write a headline for this requirement: {resp}'})\n",
    "\n",
    "for i in range(300):\n",
    "    response = requests.post(url, data=json.dumps(data), headers=headers)\n",
    "\n",
    "    json_data = json.loads(response.text)\n",
    "\n",
    "    print(f\"Headline: {json_data['response'][:20]}\")"
   ]
  }
 ],
 "metadata": {
  "kernelspec": {
   "display_name": "standards2",
   "language": "python",
   "name": "python3"
  },
  "language_info": {
   "codemirror_mode": {
    "name": "ipython",
    "version": 3
   },
   "file_extension": ".py",
   "mimetype": "text/x-python",
   "name": "python",
   "nbconvert_exporter": "python",
   "pygments_lexer": "ipython3",
   "version": "3.10.12"
  }
 },
 "nbformat": 4,
 "nbformat_minor": 2
}
